{
 "cells": [
  {
   "cell_type": "markdown",
   "metadata": {},
   "source": [
    "# Locality Sensitive Hashing"
   ]
  },
  {
   "cell_type": "markdown",
   "metadata": {},
   "source": [
    "Locality Sensitive Hashing (LSH) provides for a fast, efficient approximate nearest neighbor search. The algorithm scales well with respect to the number of data points as well as dimensions.\n",
    "\n",
    "In this assignment, you will\n",
    "* Implement the LSH algorithm for approximate nearest neighbor search\n",
    "* Examine the accuracy for different documents by comparing against brute force search, and also contrast runtimes\n",
    "* Explore the role of the algorithm’s tuning parameters in the accuracy of the method"
   ]
  },
  {
   "cell_type": "markdown",
   "metadata": {},
   "source": [
    "## Import necessary packages"
   ]
  },
  {
   "cell_type": "code",
   "execution_count": 1,
   "metadata": {},
   "outputs": [],
   "source": [
    "from __future__ import print_function # to conform python 2.x print to python 3.x\n",
    "import numpy as np\n",
    "import turicreate\n",
    "from scipy.sparse import csr_matrix\n",
    "from sklearn.metrics.pairwise import pairwise_distances\n",
    "import time\n",
    "from copy import copy\n",
    "import matplotlib.pyplot as plt\n",
    "%matplotlib inline\n",
    "\n",
    "'''compute norm of a sparse vector\n",
    "   Thanks to: Jaiyam Sharma'''\n",
    "def norm(x):\n",
    "    sum_sq=x.dot(x.T)\n",
    "    norm=np.sqrt(sum_sq)\n",
    "    return(norm)"
   ]
  },
  {
   "cell_type": "markdown",
   "metadata": {},
   "source": [
    "## Load in the Wikipedia dataset"
   ]
  },
  {
   "cell_type": "code",
   "execution_count": 2,
   "metadata": {},
   "outputs": [],
   "source": [
    "wiki = turicreate.SFrame('../people_wiki.sframe/')"
   ]
  },
  {
   "cell_type": "markdown",
   "metadata": {},
   "source": [
    "For this assignment, let us assign a unique ID to each document."
   ]
  },
  {
   "cell_type": "code",
   "execution_count": 3,
   "metadata": {},
   "outputs": [],
   "source": [
    "wiki = wiki.add_row_number()"
   ]
  },
  {
   "cell_type": "code",
   "execution_count": 4,
   "metadata": {},
   "outputs": [
    {
     "data": {
      "text/html": [
       "<div style=\"max-height:1000px;max-width:1500px;overflow:auto;\"><table frame=\"box\" rules=\"cols\">\n",
       "    <tr>\n",
       "        <th style=\"padding-left: 1em; padding-right: 1em; text-align: center\">id</th>\n",
       "        <th style=\"padding-left: 1em; padding-right: 1em; text-align: center\">URI</th>\n",
       "        <th style=\"padding-left: 1em; padding-right: 1em; text-align: center\">name</th>\n",
       "        <th style=\"padding-left: 1em; padding-right: 1em; text-align: center\">text</th>\n",
       "    </tr>\n",
       "    <tr>\n",
       "        <td style=\"padding-left: 1em; padding-right: 1em; text-align: center; vertical-align: top\">0</td>\n",
       "        <td style=\"padding-left: 1em; padding-right: 1em; text-align: center; vertical-align: top\">&lt;http://dbpedia.org/resou<br>rce/Digby_Morrell&gt; ...</td>\n",
       "        <td style=\"padding-left: 1em; padding-right: 1em; text-align: center; vertical-align: top\">Digby Morrell</td>\n",
       "        <td style=\"padding-left: 1em; padding-right: 1em; text-align: center; vertical-align: top\">digby morrell born 10<br>october 1979 is a former ...</td>\n",
       "    </tr>\n",
       "    <tr>\n",
       "        <td style=\"padding-left: 1em; padding-right: 1em; text-align: center; vertical-align: top\">1</td>\n",
       "        <td style=\"padding-left: 1em; padding-right: 1em; text-align: center; vertical-align: top\">&lt;http://dbpedia.org/resou<br>rce/Alfred_J._Lewy&gt; ...</td>\n",
       "        <td style=\"padding-left: 1em; padding-right: 1em; text-align: center; vertical-align: top\">Alfred J. Lewy</td>\n",
       "        <td style=\"padding-left: 1em; padding-right: 1em; text-align: center; vertical-align: top\">alfred j lewy aka sandy<br>lewy graduated from ...</td>\n",
       "    </tr>\n",
       "    <tr>\n",
       "        <td style=\"padding-left: 1em; padding-right: 1em; text-align: center; vertical-align: top\">2</td>\n",
       "        <td style=\"padding-left: 1em; padding-right: 1em; text-align: center; vertical-align: top\">&lt;http://dbpedia.org/resou<br>rce/Harpdog_Brown&gt; ...</td>\n",
       "        <td style=\"padding-left: 1em; padding-right: 1em; text-align: center; vertical-align: top\">Harpdog Brown</td>\n",
       "        <td style=\"padding-left: 1em; padding-right: 1em; text-align: center; vertical-align: top\">harpdog brown is a singer<br>and harmonica player who ...</td>\n",
       "    </tr>\n",
       "    <tr>\n",
       "        <td style=\"padding-left: 1em; padding-right: 1em; text-align: center; vertical-align: top\">3</td>\n",
       "        <td style=\"padding-left: 1em; padding-right: 1em; text-align: center; vertical-align: top\">&lt;http://dbpedia.org/resou<br>rce/Franz_Rottensteiner&gt; ...</td>\n",
       "        <td style=\"padding-left: 1em; padding-right: 1em; text-align: center; vertical-align: top\">Franz Rottensteiner</td>\n",
       "        <td style=\"padding-left: 1em; padding-right: 1em; text-align: center; vertical-align: top\">franz rottensteiner born<br>in waidmannsfeld lower ...</td>\n",
       "    </tr>\n",
       "    <tr>\n",
       "        <td style=\"padding-left: 1em; padding-right: 1em; text-align: center; vertical-align: top\">4</td>\n",
       "        <td style=\"padding-left: 1em; padding-right: 1em; text-align: center; vertical-align: top\">&lt;http://dbpedia.org/resou<br>rce/G-Enka&gt; ...</td>\n",
       "        <td style=\"padding-left: 1em; padding-right: 1em; text-align: center; vertical-align: top\">G-Enka</td>\n",
       "        <td style=\"padding-left: 1em; padding-right: 1em; text-align: center; vertical-align: top\">henry krvits born 30<br>december 1974 in tallinn ...</td>\n",
       "    </tr>\n",
       "    <tr>\n",
       "        <td style=\"padding-left: 1em; padding-right: 1em; text-align: center; vertical-align: top\">5</td>\n",
       "        <td style=\"padding-left: 1em; padding-right: 1em; text-align: center; vertical-align: top\">&lt;http://dbpedia.org/resou<br>rce/Sam_Henderson&gt; ...</td>\n",
       "        <td style=\"padding-left: 1em; padding-right: 1em; text-align: center; vertical-align: top\">Sam Henderson</td>\n",
       "        <td style=\"padding-left: 1em; padding-right: 1em; text-align: center; vertical-align: top\">sam henderson born<br>october 18 1969 is an ...</td>\n",
       "    </tr>\n",
       "    <tr>\n",
       "        <td style=\"padding-left: 1em; padding-right: 1em; text-align: center; vertical-align: top\">6</td>\n",
       "        <td style=\"padding-left: 1em; padding-right: 1em; text-align: center; vertical-align: top\">&lt;http://dbpedia.org/resou<br>rce/Aaron_LaCrate&gt; ...</td>\n",
       "        <td style=\"padding-left: 1em; padding-right: 1em; text-align: center; vertical-align: top\">Aaron LaCrate</td>\n",
       "        <td style=\"padding-left: 1em; padding-right: 1em; text-align: center; vertical-align: top\">aaron lacrate is an<br>american music producer ...</td>\n",
       "    </tr>\n",
       "    <tr>\n",
       "        <td style=\"padding-left: 1em; padding-right: 1em; text-align: center; vertical-align: top\">7</td>\n",
       "        <td style=\"padding-left: 1em; padding-right: 1em; text-align: center; vertical-align: top\">&lt;http://dbpedia.org/resou<br>rce/Trevor_Ferguson&gt; ...</td>\n",
       "        <td style=\"padding-left: 1em; padding-right: 1em; text-align: center; vertical-align: top\">Trevor Ferguson</td>\n",
       "        <td style=\"padding-left: 1em; padding-right: 1em; text-align: center; vertical-align: top\">trevor ferguson aka john<br>farrow born 11 november ...</td>\n",
       "    </tr>\n",
       "    <tr>\n",
       "        <td style=\"padding-left: 1em; padding-right: 1em; text-align: center; vertical-align: top\">8</td>\n",
       "        <td style=\"padding-left: 1em; padding-right: 1em; text-align: center; vertical-align: top\">&lt;http://dbpedia.org/resou<br>rce/Grant_Nelson&gt; ...</td>\n",
       "        <td style=\"padding-left: 1em; padding-right: 1em; text-align: center; vertical-align: top\">Grant Nelson</td>\n",
       "        <td style=\"padding-left: 1em; padding-right: 1em; text-align: center; vertical-align: top\">grant nelson born 27<br>april 1971 in london  ...</td>\n",
       "    </tr>\n",
       "    <tr>\n",
       "        <td style=\"padding-left: 1em; padding-right: 1em; text-align: center; vertical-align: top\">9</td>\n",
       "        <td style=\"padding-left: 1em; padding-right: 1em; text-align: center; vertical-align: top\">&lt;http://dbpedia.org/resou<br>rce/Cathy_Caruth&gt; ...</td>\n",
       "        <td style=\"padding-left: 1em; padding-right: 1em; text-align: center; vertical-align: top\">Cathy Caruth</td>\n",
       "        <td style=\"padding-left: 1em; padding-right: 1em; text-align: center; vertical-align: top\">cathy caruth born 1955 is<br>frank h t rhodes ...</td>\n",
       "    </tr>\n",
       "</table>\n",
       "[59071 rows x 4 columns]<br/>Note: Only the head of the SFrame is printed.<br/>You can use print_rows(num_rows=m, num_columns=n) to print more rows and columns.\n",
       "</div>"
      ],
      "text/plain": [
       "Columns:\n",
       "\tid\tint\n",
       "\tURI\tstr\n",
       "\tname\tstr\n",
       "\ttext\tstr\n",
       "\n",
       "Rows: 59071\n",
       "\n",
       "Data:\n",
       "+----+-------------------------------+---------------------+\n",
       "| id |              URI              |         name        |\n",
       "+----+-------------------------------+---------------------+\n",
       "| 0  | <http://dbpedia.org/resour... |    Digby Morrell    |\n",
       "| 1  | <http://dbpedia.org/resour... |    Alfred J. Lewy   |\n",
       "| 2  | <http://dbpedia.org/resour... |    Harpdog Brown    |\n",
       "| 3  | <http://dbpedia.org/resour... | Franz Rottensteiner |\n",
       "| 4  | <http://dbpedia.org/resour... |        G-Enka       |\n",
       "| 5  | <http://dbpedia.org/resour... |    Sam Henderson    |\n",
       "| 6  | <http://dbpedia.org/resour... |    Aaron LaCrate    |\n",
       "| 7  | <http://dbpedia.org/resour... |   Trevor Ferguson   |\n",
       "| 8  | <http://dbpedia.org/resour... |     Grant Nelson    |\n",
       "| 9  | <http://dbpedia.org/resour... |     Cathy Caruth    |\n",
       "+----+-------------------------------+---------------------+\n",
       "+-------------------------------+\n",
       "|              text             |\n",
       "+-------------------------------+\n",
       "| digby morrell born 10 octo... |\n",
       "| alfred j lewy aka sandy le... |\n",
       "| harpdog brown is a singer ... |\n",
       "| franz rottensteiner born i... |\n",
       "| henry krvits born 30 decem... |\n",
       "| sam henderson born october... |\n",
       "| aaron lacrate is an americ... |\n",
       "| trevor ferguson aka john f... |\n",
       "| grant nelson born 27 april... |\n",
       "| cathy caruth born 1955 is ... |\n",
       "+-------------------------------+\n",
       "[59071 rows x 4 columns]\n",
       "Note: Only the head of the SFrame is printed.\n",
       "You can use print_rows(num_rows=m, num_columns=n) to print more rows and columns."
      ]
     },
     "execution_count": 4,
     "metadata": {},
     "output_type": "execute_result"
    }
   ],
   "source": [
    "wiki"
   ]
  },
  {
   "cell_type": "markdown",
   "metadata": {},
   "source": [
    "## Extract TF-IDF matrix"
   ]
  },
  {
   "cell_type": "markdown",
   "metadata": {},
   "source": [
    "We first use Turi Create to compute a TF-IDF representation for each document."
   ]
  },
  {
   "cell_type": "code",
   "execution_count": 5,
   "metadata": {},
   "outputs": [
    {
     "data": {
      "text/html": [
       "<div style=\"max-height:1000px;max-width:1500px;overflow:auto;\"><table frame=\"box\" rules=\"cols\">\n",
       "    <tr>\n",
       "        <th style=\"padding-left: 1em; padding-right: 1em; text-align: center\">id</th>\n",
       "        <th style=\"padding-left: 1em; padding-right: 1em; text-align: center\">URI</th>\n",
       "        <th style=\"padding-left: 1em; padding-right: 1em; text-align: center\">name</th>\n",
       "        <th style=\"padding-left: 1em; padding-right: 1em; text-align: center\">text</th>\n",
       "        <th style=\"padding-left: 1em; padding-right: 1em; text-align: center\">tf_idf</th>\n",
       "    </tr>\n",
       "    <tr>\n",
       "        <td style=\"padding-left: 1em; padding-right: 1em; text-align: center; vertical-align: top\">0</td>\n",
       "        <td style=\"padding-left: 1em; padding-right: 1em; text-align: center; vertical-align: top\">&lt;http://dbpedia.org/resou<br>rce/Digby_Morrell&gt; ...</td>\n",
       "        <td style=\"padding-left: 1em; padding-right: 1em; text-align: center; vertical-align: top\">Digby Morrell</td>\n",
       "        <td style=\"padding-left: 1em; padding-right: 1em; text-align: center; vertical-align: top\">digby morrell born 10<br>october 1979 is a former ...</td>\n",
       "        <td style=\"padding-left: 1em; padding-right: 1em; text-align: center; vertical-align: top\">{&#x27;melbourne&#x27;:<br>3.8914310119380633, ...</td>\n",
       "    </tr>\n",
       "    <tr>\n",
       "        <td style=\"padding-left: 1em; padding-right: 1em; text-align: center; vertical-align: top\">1</td>\n",
       "        <td style=\"padding-left: 1em; padding-right: 1em; text-align: center; vertical-align: top\">&lt;http://dbpedia.org/resou<br>rce/Alfred_J._Lewy&gt; ...</td>\n",
       "        <td style=\"padding-left: 1em; padding-right: 1em; text-align: center; vertical-align: top\">Alfred J. Lewy</td>\n",
       "        <td style=\"padding-left: 1em; padding-right: 1em; text-align: center; vertical-align: top\">alfred j lewy aka sandy<br>lewy graduated from ...</td>\n",
       "        <td style=\"padding-left: 1em; padding-right: 1em; text-align: center; vertical-align: top\">{&#x27;time&#x27;:<br>1.3253342074200498, ...</td>\n",
       "    </tr>\n",
       "    <tr>\n",
       "        <td style=\"padding-left: 1em; padding-right: 1em; text-align: center; vertical-align: top\">2</td>\n",
       "        <td style=\"padding-left: 1em; padding-right: 1em; text-align: center; vertical-align: top\">&lt;http://dbpedia.org/resou<br>rce/Harpdog_Brown&gt; ...</td>\n",
       "        <td style=\"padding-left: 1em; padding-right: 1em; text-align: center; vertical-align: top\">Harpdog Brown</td>\n",
       "        <td style=\"padding-left: 1em; padding-right: 1em; text-align: center; vertical-align: top\">harpdog brown is a singer<br>and harmonica player who ...</td>\n",
       "        <td style=\"padding-left: 1em; padding-right: 1em; text-align: center; vertical-align: top\">{&#x27;time&#x27;:<br>1.3253342074200498, ...</td>\n",
       "    </tr>\n",
       "    <tr>\n",
       "        <td style=\"padding-left: 1em; padding-right: 1em; text-align: center; vertical-align: top\">3</td>\n",
       "        <td style=\"padding-left: 1em; padding-right: 1em; text-align: center; vertical-align: top\">&lt;http://dbpedia.org/resou<br>rce/Franz_Rottensteiner&gt; ...</td>\n",
       "        <td style=\"padding-left: 1em; padding-right: 1em; text-align: center; vertical-align: top\">Franz Rottensteiner</td>\n",
       "        <td style=\"padding-left: 1em; padding-right: 1em; text-align: center; vertical-align: top\">franz rottensteiner born<br>in waidmannsfeld lower ...</td>\n",
       "        <td style=\"padding-left: 1em; padding-right: 1em; text-align: center; vertical-align: top\">{&#x27;kurdlawitzpreis&#x27;:<br>10.986495389225194, ...</td>\n",
       "    </tr>\n",
       "    <tr>\n",
       "        <td style=\"padding-left: 1em; padding-right: 1em; text-align: center; vertical-align: top\">4</td>\n",
       "        <td style=\"padding-left: 1em; padding-right: 1em; text-align: center; vertical-align: top\">&lt;http://dbpedia.org/resou<br>rce/G-Enka&gt; ...</td>\n",
       "        <td style=\"padding-left: 1em; padding-right: 1em; text-align: center; vertical-align: top\">G-Enka</td>\n",
       "        <td style=\"padding-left: 1em; padding-right: 1em; text-align: center; vertical-align: top\">henry krvits born 30<br>december 1974 in tallinn ...</td>\n",
       "        <td style=\"padding-left: 1em; padding-right: 1em; text-align: center; vertical-align: top\">{&#x27;curtis&#x27;:<br>5.299520032885375, ...</td>\n",
       "    </tr>\n",
       "    <tr>\n",
       "        <td style=\"padding-left: 1em; padding-right: 1em; text-align: center; vertical-align: top\">5</td>\n",
       "        <td style=\"padding-left: 1em; padding-right: 1em; text-align: center; vertical-align: top\">&lt;http://dbpedia.org/resou<br>rce/Sam_Henderson&gt; ...</td>\n",
       "        <td style=\"padding-left: 1em; padding-right: 1em; text-align: center; vertical-align: top\">Sam Henderson</td>\n",
       "        <td style=\"padding-left: 1em; padding-right: 1em; text-align: center; vertical-align: top\">sam henderson born<br>october 18 1969 is an ...</td>\n",
       "        <td style=\"padding-left: 1em; padding-right: 1em; text-align: center; vertical-align: top\">{&#x27;journal&#x27;:<br>3.025473923341824, ...</td>\n",
       "    </tr>\n",
       "    <tr>\n",
       "        <td style=\"padding-left: 1em; padding-right: 1em; text-align: center; vertical-align: top\">6</td>\n",
       "        <td style=\"padding-left: 1em; padding-right: 1em; text-align: center; vertical-align: top\">&lt;http://dbpedia.org/resou<br>rce/Aaron_LaCrate&gt; ...</td>\n",
       "        <td style=\"padding-left: 1em; padding-right: 1em; text-align: center; vertical-align: top\">Aaron LaCrate</td>\n",
       "        <td style=\"padding-left: 1em; padding-right: 1em; text-align: center; vertical-align: top\">aaron lacrate is an<br>american music producer ...</td>\n",
       "        <td style=\"padding-left: 1em; padding-right: 1em; text-align: center; vertical-align: top\">{&#x27;including&#x27;:<br>1.2272824458461182, ...</td>\n",
       "    </tr>\n",
       "    <tr>\n",
       "        <td style=\"padding-left: 1em; padding-right: 1em; text-align: center; vertical-align: top\">7</td>\n",
       "        <td style=\"padding-left: 1em; padding-right: 1em; text-align: center; vertical-align: top\">&lt;http://dbpedia.org/resou<br>rce/Trevor_Ferguson&gt; ...</td>\n",
       "        <td style=\"padding-left: 1em; padding-right: 1em; text-align: center; vertical-align: top\">Trevor Ferguson</td>\n",
       "        <td style=\"padding-left: 1em; padding-right: 1em; text-align: center; vertical-align: top\">trevor ferguson aka john<br>farrow born 11 november ...</td>\n",
       "        <td style=\"padding-left: 1em; padding-right: 1em; text-align: center; vertical-align: top\">{&#x27;concordia&#x27;:<br>6.250296940830698, ...</td>\n",
       "    </tr>\n",
       "    <tr>\n",
       "        <td style=\"padding-left: 1em; padding-right: 1em; text-align: center; vertical-align: top\">8</td>\n",
       "        <td style=\"padding-left: 1em; padding-right: 1em; text-align: center; vertical-align: top\">&lt;http://dbpedia.org/resou<br>rce/Grant_Nelson&gt; ...</td>\n",
       "        <td style=\"padding-left: 1em; padding-right: 1em; text-align: center; vertical-align: top\">Grant Nelson</td>\n",
       "        <td style=\"padding-left: 1em; padding-right: 1em; text-align: center; vertical-align: top\">grant nelson born 27<br>april 1971 in london  ...</td>\n",
       "        <td style=\"padding-left: 1em; padding-right: 1em; text-align: center; vertical-align: top\">{&#x27;knuckles&#x27;:<br>8.042056410058754, ...</td>\n",
       "    </tr>\n",
       "    <tr>\n",
       "        <td style=\"padding-left: 1em; padding-right: 1em; text-align: center; vertical-align: top\">9</td>\n",
       "        <td style=\"padding-left: 1em; padding-right: 1em; text-align: center; vertical-align: top\">&lt;http://dbpedia.org/resou<br>rce/Cathy_Caruth&gt; ...</td>\n",
       "        <td style=\"padding-left: 1em; padding-right: 1em; text-align: center; vertical-align: top\">Cathy Caruth</td>\n",
       "        <td style=\"padding-left: 1em; padding-right: 1em; text-align: center; vertical-align: top\">cathy caruth born 1955 is<br>frank h t rhodes ...</td>\n",
       "        <td style=\"padding-left: 1em; padding-right: 1em; text-align: center; vertical-align: top\">{&#x27;n3&#x27;:<br>10.293348208665249, ...</td>\n",
       "    </tr>\n",
       "</table>\n",
       "[10 rows x 5 columns]<br/>\n",
       "</div>"
      ],
      "text/plain": [
       "Columns:\n",
       "\tid\tint\n",
       "\tURI\tstr\n",
       "\tname\tstr\n",
       "\ttext\tstr\n",
       "\ttf_idf\tdict\n",
       "\n",
       "Rows: 10\n",
       "\n",
       "Data:\n",
       "+----+-------------------------------+---------------------+\n",
       "| id |              URI              |         name        |\n",
       "+----+-------------------------------+---------------------+\n",
       "| 0  | <http://dbpedia.org/resour... |    Digby Morrell    |\n",
       "| 1  | <http://dbpedia.org/resour... |    Alfred J. Lewy   |\n",
       "| 2  | <http://dbpedia.org/resour... |    Harpdog Brown    |\n",
       "| 3  | <http://dbpedia.org/resour... | Franz Rottensteiner |\n",
       "| 4  | <http://dbpedia.org/resour... |        G-Enka       |\n",
       "| 5  | <http://dbpedia.org/resour... |    Sam Henderson    |\n",
       "| 6  | <http://dbpedia.org/resour... |    Aaron LaCrate    |\n",
       "| 7  | <http://dbpedia.org/resour... |   Trevor Ferguson   |\n",
       "| 8  | <http://dbpedia.org/resour... |     Grant Nelson    |\n",
       "| 9  | <http://dbpedia.org/resour... |     Cathy Caruth    |\n",
       "+----+-------------------------------+---------------------+\n",
       "+-------------------------------+-------------------------------+\n",
       "|              text             |             tf_idf            |\n",
       "+-------------------------------+-------------------------------+\n",
       "| digby morrell born 10 octo... | {'melbourne': 3.8914310119... |\n",
       "| alfred j lewy aka sandy le... | {'time': 1.325334207420049... |\n",
       "| harpdog brown is a singer ... | {'time': 1.325334207420049... |\n",
       "| franz rottensteiner born i... | {'kurdlawitzpreis': 10.986... |\n",
       "| henry krvits born 30 decem... | {'curtis': 5.2995200328853... |\n",
       "| sam henderson born october... | {'journal': 3.025473923341... |\n",
       "| aaron lacrate is an americ... | {'including': 1.2272824458... |\n",
       "| trevor ferguson aka john f... | {'concordia': 6.2502969408... |\n",
       "| grant nelson born 27 april... | {'knuckles': 8.04205641005... |\n",
       "| cathy caruth born 1955 is ... | {'n3': 10.293348208665249,... |\n",
       "+-------------------------------+-------------------------------+\n",
       "[10 rows x 5 columns]"
      ]
     },
     "execution_count": 5,
     "metadata": {},
     "output_type": "execute_result"
    }
   ],
   "source": [
    "wiki['tf_idf'] = turicreate.text_analytics.tf_idf(wiki['text'])\n",
    "wiki.head()"
   ]
  },
  {
   "cell_type": "markdown",
   "metadata": {},
   "source": [
    "For the remainder of the assignment, we will use sparse matrices. Sparse matrices are matrices) that have a small number of nonzero entries. A good data structure for sparse matrices would only store the nonzero entries to save space and speed up computation. SciPy provides a highly-optimized library for sparse matrices. Many matrix operations available for NumPy arrays are also available for SciPy sparse matrices.We first convert the TF-IDF column (in dictionary format) into the SciPy sparse matrix format."
   ]
  },
  {
   "cell_type": "code",
   "execution_count": 6,
   "metadata": {},
   "outputs": [],
   "source": [
    "def sframe_to_scipy(x, column_name):\n",
    "    '''\n",
    "    Convert a dictionary column of an SFrame into a sparse matrix format where\n",
    "    each (row_id, column_id, value) triple corresponds to the value of\n",
    "    x[row_id][column_id], where column_id is a key in the dictionary.\n",
    "       \n",
    "    Example\n",
    "    >>> sparse_matrix, map_key_to_index = sframe_to_scipy(sframe, column_name)\n",
    "    '''\n",
    "    assert type(x[column_name][0]) == dict, \\\n",
    "        'The chosen column must be dict type, representing sparse data.'\n",
    "    \n",
    "    # Stack will transform x to have a row for each unique (row, key) pair.\n",
    "    x = x.stack(column_name, ['feature', 'value'])\n",
    "    \n",
    "    # Map feature words to integers \n",
    "    unique_words = sorted(x['feature'].unique())\n",
    "    mapping = {word:i for i, word in enumerate(unique_words)}\n",
    "    x['feature_id'] = x['feature'].apply(lambda x: mapping[x])\n",
    "    \n",
    "    # Create numpy arrays that contain the data for the sparse matrix.\n",
    "    row_id = np.array(x['id'])\n",
    "    col_id = np.array(x['feature_id'])\n",
    "    data = np.array(x['value'])\n",
    "    \n",
    "    width = x['id'].max() + 1\n",
    "    height = x['feature_id'].max() + 1\n",
    "    \n",
    "    # Create a sparse matrix.\n",
    "    mat = csr_matrix((data, (row_id, col_id)), shape=(width, height))\n",
    "    return mat, mapping"
   ]
  },
  {
   "cell_type": "code",
   "execution_count": 7,
   "metadata": {},
   "outputs": [
    {
     "name": "stdout",
     "output_type": "stream",
     "text": [
      "CPU times: user 3min 6s, sys: 16.3 s, total: 3min 23s\n",
      "Wall time: 55.6 s\n"
     ]
    }
   ],
   "source": [
    "%%time\n",
    "corpus, mapping = sframe_to_scipy(wiki, 'tf_idf')"
   ]
  },
  {
   "cell_type": "code",
   "execution_count": 8,
   "metadata": {},
   "outputs": [
    {
     "name": "stdout",
     "output_type": "stream",
     "text": [
      "Check passed correctly!\n"
     ]
    }
   ],
   "source": [
    "assert corpus.shape == (59071, 547979)\n",
    "print('Check passed correctly!')"
   ]
  },
  {
   "cell_type": "markdown",
   "metadata": {},
   "source": [
    "## Train an LSH model"
   ]
  },
  {
   "cell_type": "markdown",
   "metadata": {},
   "source": [
    "The idea behind LSH is to translate the sign of our tf-idf scores into a binary index (1 or 0) by using seeing if our score falls above or below a randomly defined line. This <a href=\"http://ethen8181.github.io/machine-learning/recsys/content_based/lsh_text.html\">link</a> is helpful for understanding LSH and our code in more detail.\n",
    "\n",
    "\n",
    "LSH performs an efficient neighbor search by randomly partitioning all reference data points into different bins. Today we will build a popular variant of LSH known as <strong>random binary projection</strong>, which approximates cosine distance. There are other variants we could use for other choices of distance metrics.\n",
    "\n",
    "The first step is to generate a collection of random vectors from the standard Gaussian distribution."
   ]
  },
  {
   "cell_type": "code",
   "execution_count": 11,
   "metadata": {},
   "outputs": [],
   "source": [
    "def generate_random_vectors(dim, n_vectors):\n",
    "    return np.random.randn(dim, n_vectors)"
   ]
  },
  {
   "cell_type": "markdown",
   "metadata": {},
   "source": [
    "To visualize these Gaussian random vectors, let's look at an example in low-dimensions.  Below, we generate 3 random vectors each of dimension 5."
   ]
  },
  {
   "cell_type": "code",
   "execution_count": 12,
   "metadata": {},
   "outputs": [
    {
     "data": {
      "text/plain": [
       "array([[ 0.14466051, -1.17215948,  0.08933944],\n",
       "       [ 0.28139098,  0.60443025,  0.72782633],\n",
       "       [ 0.86509133,  0.32604214, -0.52036715],\n",
       "       [ 0.64988485,  1.12872904, -0.55884183],\n",
       "       [ 1.34686361, -0.11629814, -0.67366266]])"
      ]
     },
     "execution_count": 12,
     "metadata": {},
     "output_type": "execute_result"
    }
   ],
   "source": [
    "# Generate 3 random vectors of dimension 5, arranged into a single 5 x 3 matrix.\n",
    "generate_random_vectors(n_vectors=3, dim=5)"
   ]
  },
  {
   "cell_type": "code",
   "execution_count": 13,
   "metadata": {},
   "outputs": [
    {
     "data": {
      "text/plain": [
       "array([[-0.21473935, -0.26245118,  0.19220359],\n",
       "       [-1.09763615,  0.72051322,  0.1572506 ],\n",
       "       [-0.10206952,  0.50061503,  0.82768372],\n",
       "       [ 0.82432544,  1.56476332,  1.39482395],\n",
       "       [-0.76648373, -0.27680772, -1.63351608]])"
      ]
     },
     "execution_count": 13,
     "metadata": {},
     "output_type": "execute_result"
    }
   ],
   "source": [
    "generate_random_vectors(5,3)"
   ]
  },
  {
   "cell_type": "code",
   "execution_count": 15,
   "metadata": {},
   "outputs": [
    {
     "ename": "SyntaxError",
     "evalue": "positional argument follows keyword argument (<ipython-input-15-41a9a6af86bf>, line 1)",
     "output_type": "error",
     "traceback": [
      "\u001b[0;36m  File \u001b[0;32m\"<ipython-input-15-41a9a6af86bf>\"\u001b[0;36m, line \u001b[0;32m1\u001b[0m\n\u001b[0;31m    generate_random_vectors(n_vectors = 3,5)\u001b[0m\n\u001b[0m                                         ^\u001b[0m\n\u001b[0;31mSyntaxError\u001b[0m\u001b[0;31m:\u001b[0m positional argument follows keyword argument\n"
     ]
    }
   ],
   "source": [
    "generate_random_vectors(n_vectors = 3, 5) #should give an error"
   ]
  },
  {
   "cell_type": "markdown",
   "metadata": {},
   "source": [
    "We now generate random vectors of the same dimensionality as our vocubulary size (547979).  Each vector can be used to compute one bit in the bin encoding.  We generate 16 vectors, leading to a 16-bit encoding of the bin index for each document."
   ]
  },
  {
   "cell_type": "code",
   "execution_count": 236,
   "metadata": {},
   "outputs": [
    {
     "data": {
      "text/plain": [
       "(59071, 547979)"
      ]
     },
     "execution_count": 236,
     "metadata": {},
     "output_type": "execute_result"
    }
   ],
   "source": [
    "corpus.shape"
   ]
  },
  {
   "cell_type": "code",
   "execution_count": 16,
   "metadata": {},
   "outputs": [
    {
     "data": {
      "text/plain": [
       "(547979, 16)"
      ]
     },
     "execution_count": 16,
     "metadata": {},
     "output_type": "execute_result"
    }
   ],
   "source": [
    "# Generate 16 random vectors of dimension 547979\n",
    "np.random.seed(0)\n",
    "n_vectors = 16\n",
    "random_vectors = generate_random_vectors(corpus.shape[1], n_vectors)\n",
    "random_vectors.shape"
   ]
  },
  {
   "cell_type": "markdown",
   "metadata": {},
   "source": [
    "Next, we partition data points into bins. Instead of using explicit loops, we'd like to utilize matrix operations for greater efficiency. Let's walk through the construction step by step.\n",
    "\n",
    "We'd like to decide which bin document 0 should go. Since 16 random vectors were generated in the previous cell, we have 16 bits to represent the bin index. The first bit is given by the sign of the dot product between the first random vector and the document's TF-IDF vector."
   ]
  },
  {
   "cell_type": "code",
   "execution_count": 17,
   "metadata": {},
   "outputs": [
    {
     "data": {
      "text/plain": [
       "array([ True])"
      ]
     },
     "execution_count": 17,
     "metadata": {},
     "output_type": "execute_result"
    }
   ],
   "source": [
    "sample = corpus[0] # vector of tf-idf values for document 0\n",
    "bin_indices_bits = sample.dot(random_vectors[:,0]) >= 0\n",
    "bin_indices_bits"
   ]
  },
  {
   "cell_type": "markdown",
   "metadata": {},
   "source": [
    "Similarly, the second bit is computed as the sign of the dot product between the second random vector and the document vector."
   ]
  },
  {
   "cell_type": "code",
   "execution_count": 18,
   "metadata": {},
   "outputs": [
    {
     "data": {
      "text/plain": [
       "array([False])"
      ]
     },
     "execution_count": 18,
     "metadata": {},
     "output_type": "execute_result"
    }
   ],
   "source": [
    "sample.dot(random_vectors[:, 1]) >= 0 # True if positive sign; False if negative sign"
   ]
  },
  {
   "cell_type": "markdown",
   "metadata": {},
   "source": [
    "We can compute all of the bin index bits at once as follows. Note the absence of the explicit `for` loop over the 16 vectors. Matrix operations let us batch dot-product computation in a highly efficent manner, unlike the `for` loop construction. Given the relative inefficiency of loops in Python, the advantage of matrix operations is even greater."
   ]
  },
  {
   "cell_type": "code",
   "execution_count": 19,
   "metadata": {},
   "outputs": [
    {
     "data": {
      "text/plain": [
       "array([[ True, False, False, False,  True, False,  True, False,  True,\n",
       "         True,  True, False,  True,  True, False,  True]])"
      ]
     },
     "execution_count": 19,
     "metadata": {},
     "output_type": "execute_result"
    }
   ],
   "source": [
    "sample.dot(random_vectors) >= 0 # should return an array of 16 True/False bits"
   ]
  },
  {
   "cell_type": "code",
   "execution_count": 20,
   "metadata": {},
   "outputs": [
    {
     "data": {
      "text/plain": [
       "array([[1, 0, 0, 0, 1, 0, 1, 0, 1, 1, 1, 0, 1, 1, 0, 1]])"
      ]
     },
     "execution_count": 20,
     "metadata": {},
     "output_type": "execute_result"
    }
   ],
   "source": [
    "np.array(sample.dot(random_vectors) >= 0, dtype=int) # display index bits in 0/1's"
   ]
  },
  {
   "cell_type": "markdown",
   "metadata": {},
   "source": [
    "All documents that obtain exactly this vector will be assigned to the same bin. We'd like to repeat the identical operation on all documents in the Wikipedia dataset and compute the corresponding bin indices. Again, we use matrix operations  so that no explicit loop is needed."
   ]
  },
  {
   "cell_type": "code",
   "execution_count": 21,
   "metadata": {},
   "outputs": [
    {
     "data": {
      "text/plain": [
       "array([[ True, False, False, False,  True, False,  True, False,  True,\n",
       "         True,  True, False,  True,  True, False,  True],\n",
       "       [False, False, False, False,  True, False, False, False,  True,\n",
       "         True,  True, False, False,  True, False,  True]])"
      ]
     },
     "execution_count": 21,
     "metadata": {},
     "output_type": "execute_result"
    }
   ],
   "source": [
    "corpus[0:2].dot(random_vectors) >= 0 # compute bit indices of first two documents"
   ]
  },
  {
   "cell_type": "code",
   "execution_count": 22,
   "metadata": {},
   "outputs": [
    {
     "data": {
      "text/plain": [
       "array([[ True, False, False, ...,  True, False,  True],\n",
       "       [False, False, False, ...,  True, False,  True],\n",
       "       [ True,  True,  True, ...,  True,  True,  True],\n",
       "       ...,\n",
       "       [False, False, False, ..., False, False,  True],\n",
       "       [ True,  True, False, ...,  True,  True, False],\n",
       "       [ True,  True,  True, ...,  True, False,  True]])"
      ]
     },
     "execution_count": 22,
     "metadata": {},
     "output_type": "execute_result"
    }
   ],
   "source": [
    "corpus.dot(random_vectors) >= 0 # compute bit indices of ALL documents"
   ]
  },
  {
   "cell_type": "markdown",
   "metadata": {},
   "source": [
    "We're almost done! To make it convenient to refer to individual bins, we convert each binary bin index into a single integer: \n",
    "```\n",
    "Bin index                      integer\n",
    "[0,0,0,0,0,0,0,0,0,0,0,0]   => 0\n",
    "[0,0,0,0,0,0,0,0,0,0,0,1]   => 1\n",
    "[0,0,0,0,0,0,0,0,0,0,1,0]   => 2\n",
    "[0,0,0,0,0,0,0,0,0,0,1,1]   => 3\n",
    "...\n",
    "[1,1,1,1,1,1,1,1,1,1,0,0]   => 65532\n",
    "[1,1,1,1,1,1,1,1,1,1,0,1]   => 65533\n",
    "[1,1,1,1,1,1,1,1,1,1,1,0]   => 65534\n",
    "[1,1,1,1,1,1,1,1,1,1,1,1]   => 65535 (= 2^16-1)\n",
    "```\n",
    "By the [rules of binary number representation](https://en.wikipedia.org/wiki/Binary_number#Decimal), we just need to compute the dot product between the document vector and the vector consisting of powers of 2:"
   ]
  },
  {
   "cell_type": "code",
   "execution_count": 23,
   "metadata": {},
   "outputs": [
    {
     "name": "stdout",
     "output_type": "stream",
     "text": [
      "[[ True False False False  True False  True False  True  True  True False\n",
      "   True  True False  True]]\n",
      "[32768 16384  8192  4096  2048  1024   512   256   128    64    32    16\n",
      "     8     4     2     1]\n",
      "[35565]\n"
     ]
    }
   ],
   "source": [
    "index_bits = (sample.dot(random_vectors) >= 0)\n",
    "powers_of_two = (1 << np.arange(15, -1, -1))\n",
    "print(index_bits)\n",
    "print(powers_of_two)\n",
    "print(index_bits.dot(powers_of_two))"
   ]
  },
  {
   "cell_type": "markdown",
   "metadata": {},
   "source": [
    "Since it's the dot product again, we batch it with a matrix operation:"
   ]
  },
  {
   "cell_type": "code",
   "execution_count": 24,
   "metadata": {},
   "outputs": [
    {
     "data": {
      "text/plain": [
       "array([35565])"
      ]
     },
     "execution_count": 24,
     "metadata": {},
     "output_type": "execute_result"
    }
   ],
   "source": [
    "index_bits = sample.dot(random_vectors) >= 0\n",
    "index_bits.dot(powers_of_two)"
   ]
  },
  {
   "cell_type": "markdown",
   "metadata": {},
   "source": [
    "This array gives us the integer index of the bins for all documents.\n",
    "\n",
    "Now we are ready to complete the following function. Given the integer bin indices for the documents, you should compile a list of document IDs that belong to each bin. Since a list is to be maintained for each unique bin index, a dictionary of lists is used.\n",
    "\n",
    "1. Compute the integer bin indices. This step is already completed.\n",
    "2. For each document in the dataset, do the following:\n",
    "   * Get the integer bin index for the document.\n",
    "   * Fetch the list of document ids associated with the bin; if no list yet exists for this bin, assign the bin an empty list.\n",
    "   * Add the document id to the end of the list.\n"
   ]
  },
  {
   "cell_type": "code",
   "execution_count": 36,
   "metadata": {},
   "outputs": [],
   "source": [
    "from collections import defaultdict \n",
    "table_test = defaultdict(list)"
   ]
  },
  {
   "cell_type": "code",
   "execution_count": 38,
   "metadata": {},
   "outputs": [],
   "source": [
    "table_test[0].append(15)"
   ]
  },
  {
   "cell_type": "code",
   "execution_count": 39,
   "metadata": {},
   "outputs": [
    {
     "name": "stdout",
     "output_type": "stream",
     "text": [
      "[15]\n"
     ]
    }
   ],
   "source": [
    "print(table_test[0])"
   ]
  },
  {
   "cell_type": "code",
   "execution_count": 162,
   "metadata": {},
   "outputs": [],
   "source": [
    "from collections import defaultdict \n",
    "\n",
    "def train_lsh(data, n_vectors, seed=None):    \n",
    "    if seed is not None:\n",
    "        np.random.seed(seed)\n",
    "\n",
    "    dim = data.shape[1]\n",
    "    random_vectors = generate_random_vectors(dim, n_vectors)  \n",
    "\n",
    "    # Partition data points into bins,\n",
    "    # and encode bin index bits into integers\n",
    "    bin_indices_bits = data.dot(random_vectors) >= 0\n",
    "    powers_of_two = 1 << np.arange(n_vectors - 1, -1, step=-1)\n",
    "    bin_indices = bin_indices_bits.dot(powers_of_two) # gives a list [bin_indices of doc_id=0, of doc_id=1, ...]\n",
    "\n",
    "    # Update `table` so that `table[i]` is the list of document ids with bin index equal to i\n",
    "    table = defaultdict(list)\n",
    "    for idx, bin_index in enumerate(bin_indices): # idx corresponds to doc_id\n",
    "        # Fetch the list of document ids associated with the bin and add the document id to the end.\n",
    "        # data_index: document ids\n",
    "        # append() will add a list of document ids to table dict() with key as bin_index\n",
    "        table[bin_index].append(idx)   # YOUR CODE HERE\n",
    "    \n",
    "    # Note that we're storing the bin_indices here\n",
    "    # so we can do some ad-hoc checking with it,\n",
    "    # this isn't actually required\n",
    "    model = {'data': data,\n",
    "             'table': table,\n",
    "             'random_vectors': random_vectors,\n",
    "             'bin_indices': bin_indices,\n",
    "             'bin_indices_bits': bin_indices_bits}\n",
    "    return model"
   ]
  },
  {
   "cell_type": "markdown",
   "metadata": {},
   "source": [
    "**Checkpoint**. "
   ]
  },
  {
   "cell_type": "code",
   "execution_count": 41,
   "metadata": {},
   "outputs": [],
   "source": [
    "def compare_bits(model, id_1, id_2):\n",
    "    bits1 = model['bin_indices_bits'][id_1]\n",
    "    bits2 = model['bin_indices_bits'][id_2]\n",
    "    print('Number of agreed bits: ', np.sum(bits1 == bits2))\n",
    "    return np.sum(bits1 == bits2)"
   ]
  },
  {
   "cell_type": "code",
   "execution_count": 232,
   "metadata": {},
   "outputs": [
    {
     "name": "stdout",
     "output_type": "stream",
     "text": [
      "Number of agreed bits:  15\n"
     ]
    }
   ],
   "source": [
    "model = train_lsh(corpus, 16, seed=475)\n",
    "obama_id = wiki[wiki['name'] == 'Barack Obama']['id'][0]\n",
    "biden_id = wiki[wiki['name'] == 'Joe Biden']['id'][0]\n",
    "similariy = compare_bits(model, obama_id, biden_id)"
   ]
  },
  {
   "cell_type": "markdown",
   "metadata": {},
   "source": [
    "**Note.** We will be using the model trained here in the following sections, unless otherwise indicated."
   ]
  },
  {
   "cell_type": "markdown",
   "metadata": {},
   "source": [
    "## Inspect bins"
   ]
  },
  {
   "cell_type": "markdown",
   "metadata": {},
   "source": [
    "After generating our LSH model, let's examine the generated bins to get a deeper understanding of them. Here, we will look at these similar products' bins to see if the result matches intuition. Remember the idea behind LSH is that similar data points will tend to fall into nearby bins."
   ]
  },
  {
   "cell_type": "code",
   "execution_count": 265,
   "metadata": {},
   "outputs": [
    {
     "name": "stdout",
     "output_type": "stream",
     "text": [
      "[6.94491057e+01 9.58463815e+03 1.49201823e+02 ... 4.77424384e+01\n",
      " 1.14054446e+01 7.16306460e+00]\n",
      "[39383 49140     1  8816 54960]\n",
      "[6.94491057e+01 9.58463815e+03 1.49201823e+02 ... 4.77424384e+01\n",
      " 1.14054446e+01 7.16306460e+00]\n"
     ]
    },
    {
     "data": {
      "text/plain": [
       "5"
      ]
     },
     "execution_count": 265,
     "metadata": {},
     "output_type": "execute_result"
    }
   ],
   "source": [
    "query_test = corpus[1]\n",
    "scores_test = corpus.dot(query_test.T).toarray().ravel()\n",
    "print(scores_test)\n",
    "best_test = np.argpartition(scores_test, -5)[-5:]\n",
    "print(best_test)\n",
    "print(scores_test)\n",
    "len(best_test)"
   ]
  },
  {
   "cell_type": "code",
   "execution_count": 262,
   "metadata": {},
   "outputs": [
    {
     "data": {
      "text/plain": [
       "array([2, 1])"
      ]
     },
     "execution_count": 262,
     "metadata": {},
     "output_type": "execute_result"
    }
   ],
   "source": [
    "test_list = [6,9,8,5]\n",
    "np.argpartition(test_list, -2)[-2:]"
   ]
  },
  {
   "cell_type": "code",
   "execution_count": 263,
   "metadata": {},
   "outputs": [],
   "source": [
    "# This function will help us get similar items, given the id\n",
    "def get_similarity_items(X_tfidf, item_id, topn=5):\n",
    "    \"\"\"\n",
    "    Get the top similar items for a given item id.\n",
    "    The similarity measure here is based on cosine distance.\n",
    "    \"\"\"\n",
    "    query = X_tfidf[item_id]\n",
    "    scores = X_tfidf.dot(query.T).toarray().ravel() #flatten()?? ravel() affects the original #still indices correspond to doc_ids\n",
    "    best = np.argpartition(scores, -topn)[-topn:] # all scores less than scores[-topn] go to left, scores > scores[-topn] go to right.\n",
    "                                                  # Indices for top (topn) scores in [-topn:]. (not ordered)\n",
    "    similar_items = sorted(zip(best, scores[best]), key=lambda x: -x[1])\n",
    "    similar_item_ids = [similar_item for similar_item, _ in similar_items]\n",
    "    print(\"Similar items to id: {}\".format(item_id))\n",
    "    for _id in similar_item_ids:\n",
    "        print(wiki[_id]['name'])\n",
    "    print('\\n')\n",
    "    return similar_item_ids"
   ]
  },
  {
   "cell_type": "markdown",
   "metadata": {},
   "source": [
    "Let us look at some documents and see which bins they fall into."
   ]
  },
  {
   "cell_type": "code",
   "execution_count": 44,
   "metadata": {
    "scrolled": true
   },
   "outputs": [
    {
     "data": {
      "text/html": [
       "<div style=\"max-height:1000px;max-width:1500px;overflow:auto;\"><table frame=\"box\" rules=\"cols\">\n",
       "    <tr>\n",
       "        <th style=\"padding-left: 1em; padding-right: 1em; text-align: center\">id</th>\n",
       "        <th style=\"padding-left: 1em; padding-right: 1em; text-align: center\">URI</th>\n",
       "        <th style=\"padding-left: 1em; padding-right: 1em; text-align: center\">name</th>\n",
       "        <th style=\"padding-left: 1em; padding-right: 1em; text-align: center\">text</th>\n",
       "        <th style=\"padding-left: 1em; padding-right: 1em; text-align: center\">tf_idf</th>\n",
       "    </tr>\n",
       "    <tr>\n",
       "        <td style=\"padding-left: 1em; padding-right: 1em; text-align: center; vertical-align: top\">35817</td>\n",
       "        <td style=\"padding-left: 1em; padding-right: 1em; text-align: center; vertical-align: top\">&lt;http://dbpedia.org/resou<br>rce/Barack_Obama&gt; ...</td>\n",
       "        <td style=\"padding-left: 1em; padding-right: 1em; text-align: center; vertical-align: top\">Barack Obama</td>\n",
       "        <td style=\"padding-left: 1em; padding-right: 1em; text-align: center; vertical-align: top\">barack hussein obama ii<br>brk husen bm born august ...</td>\n",
       "        <td style=\"padding-left: 1em; padding-right: 1em; text-align: center; vertical-align: top\">{&#x27;cuba&#x27;:<br>5.005081177970713, ...</td>\n",
       "    </tr>\n",
       "</table>\n",
       "[? rows x 5 columns]<br/>Note: Only the head of the SFrame is printed. This SFrame is lazily evaluated.<br/>You can use sf.materialize() to force materialization.\n",
       "</div>"
      ],
      "text/plain": [
       "Columns:\n",
       "\tid\tint\n",
       "\tURI\tstr\n",
       "\tname\tstr\n",
       "\ttext\tstr\n",
       "\ttf_idf\tdict\n",
       "\n",
       "Rows: Unknown\n",
       "\n",
       "Data:\n",
       "+-------+-------------------------------+--------------+\n",
       "|   id  |              URI              |     name     |\n",
       "+-------+-------------------------------+--------------+\n",
       "| 35817 | <http://dbpedia.org/resour... | Barack Obama |\n",
       "+-------+-------------------------------+--------------+\n",
       "+-------------------------------+-------------------------------+\n",
       "|              text             |             tf_idf            |\n",
       "+-------------------------------+-------------------------------+\n",
       "| barack hussein obama ii br... | {'cuba': 5.005081177970713... |\n",
       "+-------------------------------+-------------------------------+\n",
       "[? rows x 5 columns]\n",
       "Note: Only the head of the SFrame is printed. This SFrame is lazily evaluated.\n",
       "You can use sf.materialize() to force materialization."
      ]
     },
     "execution_count": 44,
     "metadata": {},
     "output_type": "execute_result"
    }
   ],
   "source": [
    "wiki[wiki['name'] == 'Barack Obama']"
   ]
  },
  {
   "cell_type": "markdown",
   "metadata": {},
   "source": [
    "**Quiz Question**. What is the document `id` of Barack Obama's article?\n",
    "\n",
    "**Quiz Question**. Which bin contains Barack Obama's article? Enter its integer index."
   ]
  },
  {
   "cell_type": "code",
   "execution_count": 125,
   "metadata": {},
   "outputs": [
    {
     "data": {
      "text/plain": [
       "35817"
      ]
     },
     "execution_count": 125,
     "metadata": {},
     "output_type": "execute_result"
    }
   ],
   "source": [
    "obama_id"
   ]
  },
  {
   "cell_type": "code",
   "execution_count": 126,
   "metadata": {
    "scrolled": true
   },
   "outputs": [
    {
     "data": {
      "text/plain": [
       "38448"
      ]
     },
     "execution_count": 126,
     "metadata": {},
     "output_type": "execute_result"
    }
   ],
   "source": [
    "model['bin_indices'][obama_id]"
   ]
  },
  {
   "cell_type": "code",
   "execution_count": null,
   "metadata": {},
   "outputs": [],
   "source": []
  },
  {
   "cell_type": "markdown",
   "metadata": {},
   "source": [
    "Recall from the previous assignment that Joe Biden was a close neighbor of Barack Obama."
   ]
  },
  {
   "cell_type": "code",
   "execution_count": 127,
   "metadata": {},
   "outputs": [
    {
     "data": {
      "text/html": [
       "<div style=\"max-height:1000px;max-width:1500px;overflow:auto;\"><table frame=\"box\" rules=\"cols\">\n",
       "    <tr>\n",
       "        <th style=\"padding-left: 1em; padding-right: 1em; text-align: center\">id</th>\n",
       "        <th style=\"padding-left: 1em; padding-right: 1em; text-align: center\">URI</th>\n",
       "        <th style=\"padding-left: 1em; padding-right: 1em; text-align: center\">name</th>\n",
       "        <th style=\"padding-left: 1em; padding-right: 1em; text-align: center\">text</th>\n",
       "        <th style=\"padding-left: 1em; padding-right: 1em; text-align: center\">tf_idf</th>\n",
       "    </tr>\n",
       "    <tr>\n",
       "        <td style=\"padding-left: 1em; padding-right: 1em; text-align: center; vertical-align: top\">24478</td>\n",
       "        <td style=\"padding-left: 1em; padding-right: 1em; text-align: center; vertical-align: top\">&lt;http://dbpedia.org/resou<br>rce/Joe_Biden&gt; ...</td>\n",
       "        <td style=\"padding-left: 1em; padding-right: 1em; text-align: center; vertical-align: top\">Joe Biden</td>\n",
       "        <td style=\"padding-left: 1em; padding-right: 1em; text-align: center; vertical-align: top\">joseph robinette joe<br>biden jr dosf rbnt badn ...</td>\n",
       "        <td style=\"padding-left: 1em; padding-right: 1em; text-align: center; vertical-align: top\">{&#x27;cliff&#x27;:<br>5.874507600868651, ...</td>\n",
       "    </tr>\n",
       "</table>\n",
       "[? rows x 5 columns]<br/>Note: Only the head of the SFrame is printed. This SFrame is lazily evaluated.<br/>You can use sf.materialize() to force materialization.\n",
       "</div>"
      ],
      "text/plain": [
       "Columns:\n",
       "\tid\tint\n",
       "\tURI\tstr\n",
       "\tname\tstr\n",
       "\ttext\tstr\n",
       "\ttf_idf\tdict\n",
       "\n",
       "Rows: Unknown\n",
       "\n",
       "Data:\n",
       "+-------+-------------------------------+-----------+\n",
       "|   id  |              URI              |    name   |\n",
       "+-------+-------------------------------+-----------+\n",
       "| 24478 | <http://dbpedia.org/resour... | Joe Biden |\n",
       "+-------+-------------------------------+-----------+\n",
       "+-------------------------------+-------------------------------+\n",
       "|              text             |             tf_idf            |\n",
       "+-------------------------------+-------------------------------+\n",
       "| joseph robinette joe biden... | {'cliff': 5.87450760086865... |\n",
       "+-------------------------------+-------------------------------+\n",
       "[? rows x 5 columns]\n",
       "Note: Only the head of the SFrame is printed. This SFrame is lazily evaluated.\n",
       "You can use sf.materialize() to force materialization."
      ]
     },
     "execution_count": 127,
     "metadata": {},
     "output_type": "execute_result"
    }
   ],
   "source": [
    "wiki[wiki['name'] == 'Joe Biden']"
   ]
  },
  {
   "cell_type": "markdown",
   "metadata": {},
   "source": [
    "**Quiz Question**. Examine the bit representations of the bins containing Barack Obama and Joe Biden. In how many places do they agree?\n",
    "\n",
    "1. 16 out of 16 places (Barack Obama and Joe Biden fall into the same bin)\n",
    "2. 15 out of 16 places\n",
    "3. 13 out of 16 places\n",
    "4. 11 out of 16 places\n",
    "5. 9 out of 16 places"
   ]
  },
  {
   "cell_type": "code",
   "execution_count": 128,
   "metadata": {},
   "outputs": [
    {
     "name": "stdout",
     "output_type": "stream",
     "text": [
      "Number of agreed bits:  15\n"
     ]
    }
   ],
   "source": [
    "obama_id = wiki[wiki['name'] == 'Barack Obama']['id'][0]\n",
    "biden_id = wiki[wiki['name'] == 'Joe Biden']['id'][0]\n",
    "similariy = compare_bits(model, obama_id, biden_id)"
   ]
  },
  {
   "cell_type": "code",
   "execution_count": null,
   "metadata": {},
   "outputs": [],
   "source": []
  },
  {
   "cell_type": "markdown",
   "metadata": {},
   "source": [
    "Compare the result with a former British diplomat"
   ]
  },
  {
   "cell_type": "code",
   "execution_count": 49,
   "metadata": {},
   "outputs": [
    {
     "name": "stdout",
     "output_type": "stream",
     "text": [
      "Number of agreed bits:  8\n"
     ]
    },
    {
     "data": {
      "text/plain": [
       "8"
      ]
     },
     "execution_count": 49,
     "metadata": {},
     "output_type": "execute_result"
    }
   ],
   "source": [
    "jones_id = wiki[wiki['name']=='Wynn Normington Hugh-Jones']['id'][0]\n",
    "compare_bits(model, obama_id, jones_id)"
   ]
  },
  {
   "cell_type": "markdown",
   "metadata": {},
   "source": [
    "How about the documents in the same bin as Barack Obama? Are they necessarily more similar to Obama than Biden?  Let's look at which documents are in the same bin as the Barack Obama article."
   ]
  },
  {
   "cell_type": "code",
   "execution_count": 137,
   "metadata": {},
   "outputs": [
    {
     "data": {
      "text/plain": [
       "[35817, 54743]"
      ]
     },
     "execution_count": 137,
     "metadata": {},
     "output_type": "execute_result"
    }
   ],
   "source": [
    "model['table'][model['bin_indices'][35817]]"
   ]
  },
  {
   "cell_type": "markdown",
   "metadata": {},
   "source": [
    "There is one more document in the same bin. Which document is it?"
   ]
  },
  {
   "cell_type": "code",
   "execution_count": 51,
   "metadata": {},
   "outputs": [
    {
     "data": {
      "text/html": [
       "<div style=\"max-height:1000px;max-width:1500px;overflow:auto;\"><table frame=\"box\" rules=\"cols\">\n",
       "    <tr>\n",
       "        <th style=\"padding-left: 1em; padding-right: 1em; text-align: center\">id</th>\n",
       "        <th style=\"padding-left: 1em; padding-right: 1em; text-align: center\">URI</th>\n",
       "        <th style=\"padding-left: 1em; padding-right: 1em; text-align: center\">name</th>\n",
       "        <th style=\"padding-left: 1em; padding-right: 1em; text-align: center\">text</th>\n",
       "        <th style=\"padding-left: 1em; padding-right: 1em; text-align: center\">tf_idf</th>\n",
       "    </tr>\n",
       "    <tr>\n",
       "        <td style=\"padding-left: 1em; padding-right: 1em; text-align: center; vertical-align: top\">54743</td>\n",
       "        <td style=\"padding-left: 1em; padding-right: 1em; text-align: center; vertical-align: top\">&lt;http://dbpedia.org/resou<br>rce/Radovan_%C5%BDerjav&gt; ...</td>\n",
       "        <td style=\"padding-left: 1em; padding-right: 1em; text-align: center; vertical-align: top\">Radovan %C5%BDerjav</td>\n",
       "        <td style=\"padding-left: 1em; padding-right: 1em; text-align: center; vertical-align: top\">radovan erjav born 2<br>december 1968 is a ...</td>\n",
       "        <td style=\"padding-left: 1em; padding-right: 1em; text-align: center; vertical-align: top\">{&#x27;hungarian&#x27;:<br>5.299520032885375, ...</td>\n",
       "    </tr>\n",
       "</table>\n",
       "[1 rows x 5 columns]<br/>\n",
       "</div>"
      ],
      "text/plain": [
       "Columns:\n",
       "\tid\tint\n",
       "\tURI\tstr\n",
       "\tname\tstr\n",
       "\ttext\tstr\n",
       "\ttf_idf\tdict\n",
       "\n",
       "Rows: 1\n",
       "\n",
       "Data:\n",
       "+-------+-------------------------------+---------------------+\n",
       "|   id  |              URI              |         name        |\n",
       "+-------+-------------------------------+---------------------+\n",
       "| 54743 | <http://dbpedia.org/resour... | Radovan %C5%BDerjav |\n",
       "+-------+-------------------------------+---------------------+\n",
       "+-------------------------------+-------------------------------+\n",
       "|              text             |             tf_idf            |\n",
       "+-------------------------------+-------------------------------+\n",
       "| radovan erjav born 2 decem... | {'hungarian': 5.2995200328... |\n",
       "+-------------------------------+-------------------------------+\n",
       "[1 rows x 5 columns]"
      ]
     },
     "execution_count": 51,
     "metadata": {},
     "output_type": "execute_result"
    }
   ],
   "source": [
    "doc_ids = list(model['table'][model['bin_indices'][35817]])\n",
    "doc_ids.remove(35817) # display documents other than Obama\n",
    "\n",
    "docs = wiki.filter_by(values=doc_ids, column_name='id') # filter by id column\n",
    "docs"
   ]
  },
  {
   "cell_type": "code",
   "execution_count": 57,
   "metadata": {
    "scrolled": true
   },
   "outputs": [
    {
     "name": "stdout",
     "output_type": "stream",
     "text": [
      "Number of agreed bits:  16\n",
      "Number of agreed bits:  15\n"
     ]
    }
   ],
   "source": [
    "res = compare_bits(model, obama_id, docs[0]['id']), compare_bits(model, obama_id, biden_id)"
   ]
  },
  {
   "cell_type": "code",
   "execution_count": 59,
   "metadata": {},
   "outputs": [
    {
     "data": {
      "text/plain": [
       "(16, 15)"
      ]
     },
     "execution_count": 59,
     "metadata": {},
     "output_type": "execute_result"
    }
   ],
   "source": [
    "res"
   ]
  },
  {
   "cell_type": "markdown",
   "metadata": {},
   "source": [
    "**In summary**, similar data points will in general _tend to_ fall into _nearby_ bins, but that's all we can say about LSH. In a high-dimensional space such as text features, we often get unlucky with our selection of only a few random vectors such that dissimilar data points go into the same bin while similar data points fall into different bins. **Given a query document, we must consider all documents in the nearby bins and sort them according to their actual distances from the query.**"
   ]
  },
  {
   "cell_type": "markdown",
   "metadata": {},
   "source": [
    "## Query the LSH model"
   ]
  },
  {
   "cell_type": "markdown",
   "metadata": {},
   "source": [
    "Let us first implement the logic for searching nearby neighbors, which goes like this:\n",
    "```\n",
    "1. Let L be the bit representation of the bin that contains the query documents.\n",
    "2. Consider all documents in bin L.\n",
    "3. Consider documents in the bins whose bit representation differs from L by 1 bit.\n",
    "4. Consider documents in the bins whose bit representation differs from L by 2 bits.\n",
    "...\n",
    "```"
   ]
  },
  {
   "cell_type": "markdown",
   "metadata": {},
   "source": [
    "To obtain candidate bins that differ from the query bin by some number of bits, we use `itertools.combinations`, which produces all possible subsets of a given list. See [this documentation](https://docs.python.org/3/library/itertools.html#itertools.combinations) for details.\n",
    "```\n",
    "1. Decide on the search radius r. This will determine the number of different bits between the two vectors.\n",
    "2. For each subset (n_1, n_2, ..., n_r) of the list [0, 1, 2, ..., num_vector-1], do the following:\n",
    "   * Flip the bits (n_1, n_2, ..., n_r) of the query bin to produce a new bit vector.\n",
    "   * Fetch the list of documents belonging to the bin indexed by the new bit vector.\n",
    "   * Add those documents to the candidate set.\n",
    "```\n",
    "\n",
    "Each line of output from the following cell is a 3-tuple indicating where the candidate bin would differ from the query bin. For instance,\n",
    "```\n",
    "(0, 1, 3)\n",
    "```\n",
    "indicates that the candiate bin differs from the query bin in first, second, and fourth bits."
   ]
  },
  {
   "cell_type": "code",
   "execution_count": 60,
   "metadata": {},
   "outputs": [],
   "source": [
    "from itertools import combinations"
   ]
  },
  {
   "cell_type": "code",
   "execution_count": 61,
   "metadata": {
    "scrolled": true
   },
   "outputs": [
    {
     "name": "stdout",
     "output_type": "stream",
     "text": [
      "(0, 1, 2)\n",
      "(0, 1, 3)\n",
      "(0, 1, 4)\n",
      "(0, 1, 5)\n",
      "(0, 1, 6)\n",
      "(0, 1, 7)\n",
      "(0, 1, 8)\n",
      "(0, 1, 9)\n",
      "(0, 1, 10)\n",
      "(0, 1, 11)\n",
      "(0, 1, 12)\n",
      "(0, 1, 13)\n",
      "(0, 1, 14)\n",
      "(0, 1, 15)\n",
      "(0, 2, 3)\n",
      "(0, 2, 4)\n",
      "(0, 2, 5)\n",
      "(0, 2, 6)\n",
      "(0, 2, 7)\n",
      "(0, 2, 8)\n",
      "(0, 2, 9)\n",
      "(0, 2, 10)\n",
      "(0, 2, 11)\n",
      "(0, 2, 12)\n",
      "(0, 2, 13)\n",
      "(0, 2, 14)\n",
      "(0, 2, 15)\n",
      "(0, 3, 4)\n",
      "(0, 3, 5)\n",
      "(0, 3, 6)\n",
      "(0, 3, 7)\n",
      "(0, 3, 8)\n",
      "(0, 3, 9)\n",
      "(0, 3, 10)\n",
      "(0, 3, 11)\n",
      "(0, 3, 12)\n",
      "(0, 3, 13)\n",
      "(0, 3, 14)\n",
      "(0, 3, 15)\n",
      "(0, 4, 5)\n",
      "(0, 4, 6)\n",
      "(0, 4, 7)\n",
      "(0, 4, 8)\n",
      "(0, 4, 9)\n",
      "(0, 4, 10)\n",
      "(0, 4, 11)\n",
      "(0, 4, 12)\n",
      "(0, 4, 13)\n",
      "(0, 4, 14)\n",
      "(0, 4, 15)\n",
      "(0, 5, 6)\n",
      "(0, 5, 7)\n",
      "(0, 5, 8)\n",
      "(0, 5, 9)\n",
      "(0, 5, 10)\n",
      "(0, 5, 11)\n",
      "(0, 5, 12)\n",
      "(0, 5, 13)\n",
      "(0, 5, 14)\n",
      "(0, 5, 15)\n",
      "(0, 6, 7)\n",
      "(0, 6, 8)\n",
      "(0, 6, 9)\n",
      "(0, 6, 10)\n",
      "(0, 6, 11)\n",
      "(0, 6, 12)\n",
      "(0, 6, 13)\n",
      "(0, 6, 14)\n",
      "(0, 6, 15)\n",
      "(0, 7, 8)\n",
      "(0, 7, 9)\n",
      "(0, 7, 10)\n",
      "(0, 7, 11)\n",
      "(0, 7, 12)\n",
      "(0, 7, 13)\n",
      "(0, 7, 14)\n",
      "(0, 7, 15)\n",
      "(0, 8, 9)\n",
      "(0, 8, 10)\n",
      "(0, 8, 11)\n",
      "(0, 8, 12)\n",
      "(0, 8, 13)\n",
      "(0, 8, 14)\n",
      "(0, 8, 15)\n",
      "(0, 9, 10)\n",
      "(0, 9, 11)\n",
      "(0, 9, 12)\n",
      "(0, 9, 13)\n",
      "(0, 9, 14)\n",
      "(0, 9, 15)\n",
      "(0, 10, 11)\n",
      "(0, 10, 12)\n",
      "(0, 10, 13)\n",
      "(0, 10, 14)\n",
      "(0, 10, 15)\n",
      "(0, 11, 12)\n",
      "(0, 11, 13)\n",
      "(0, 11, 14)\n",
      "(0, 11, 15)\n",
      "(0, 12, 13)\n",
      "(0, 12, 14)\n",
      "(0, 12, 15)\n",
      "(0, 13, 14)\n",
      "(0, 13, 15)\n",
      "(0, 14, 15)\n",
      "(1, 2, 3)\n",
      "(1, 2, 4)\n",
      "(1, 2, 5)\n",
      "(1, 2, 6)\n",
      "(1, 2, 7)\n",
      "(1, 2, 8)\n",
      "(1, 2, 9)\n",
      "(1, 2, 10)\n",
      "(1, 2, 11)\n",
      "(1, 2, 12)\n",
      "(1, 2, 13)\n",
      "(1, 2, 14)\n",
      "(1, 2, 15)\n",
      "(1, 3, 4)\n",
      "(1, 3, 5)\n",
      "(1, 3, 6)\n",
      "(1, 3, 7)\n",
      "(1, 3, 8)\n",
      "(1, 3, 9)\n",
      "(1, 3, 10)\n",
      "(1, 3, 11)\n",
      "(1, 3, 12)\n",
      "(1, 3, 13)\n",
      "(1, 3, 14)\n",
      "(1, 3, 15)\n",
      "(1, 4, 5)\n",
      "(1, 4, 6)\n",
      "(1, 4, 7)\n",
      "(1, 4, 8)\n",
      "(1, 4, 9)\n",
      "(1, 4, 10)\n",
      "(1, 4, 11)\n",
      "(1, 4, 12)\n",
      "(1, 4, 13)\n",
      "(1, 4, 14)\n",
      "(1, 4, 15)\n",
      "(1, 5, 6)\n",
      "(1, 5, 7)\n",
      "(1, 5, 8)\n",
      "(1, 5, 9)\n",
      "(1, 5, 10)\n",
      "(1, 5, 11)\n",
      "(1, 5, 12)\n",
      "(1, 5, 13)\n",
      "(1, 5, 14)\n",
      "(1, 5, 15)\n",
      "(1, 6, 7)\n",
      "(1, 6, 8)\n",
      "(1, 6, 9)\n",
      "(1, 6, 10)\n",
      "(1, 6, 11)\n",
      "(1, 6, 12)\n",
      "(1, 6, 13)\n",
      "(1, 6, 14)\n",
      "(1, 6, 15)\n",
      "(1, 7, 8)\n",
      "(1, 7, 9)\n",
      "(1, 7, 10)\n",
      "(1, 7, 11)\n",
      "(1, 7, 12)\n",
      "(1, 7, 13)\n",
      "(1, 7, 14)\n",
      "(1, 7, 15)\n",
      "(1, 8, 9)\n",
      "(1, 8, 10)\n",
      "(1, 8, 11)\n",
      "(1, 8, 12)\n",
      "(1, 8, 13)\n",
      "(1, 8, 14)\n",
      "(1, 8, 15)\n",
      "(1, 9, 10)\n",
      "(1, 9, 11)\n",
      "(1, 9, 12)\n",
      "(1, 9, 13)\n",
      "(1, 9, 14)\n",
      "(1, 9, 15)\n",
      "(1, 10, 11)\n",
      "(1, 10, 12)\n",
      "(1, 10, 13)\n",
      "(1, 10, 14)\n",
      "(1, 10, 15)\n",
      "(1, 11, 12)\n",
      "(1, 11, 13)\n",
      "(1, 11, 14)\n",
      "(1, 11, 15)\n",
      "(1, 12, 13)\n",
      "(1, 12, 14)\n",
      "(1, 12, 15)\n",
      "(1, 13, 14)\n",
      "(1, 13, 15)\n",
      "(1, 14, 15)\n",
      "(2, 3, 4)\n",
      "(2, 3, 5)\n",
      "(2, 3, 6)\n",
      "(2, 3, 7)\n",
      "(2, 3, 8)\n",
      "(2, 3, 9)\n",
      "(2, 3, 10)\n",
      "(2, 3, 11)\n",
      "(2, 3, 12)\n",
      "(2, 3, 13)\n",
      "(2, 3, 14)\n",
      "(2, 3, 15)\n",
      "(2, 4, 5)\n",
      "(2, 4, 6)\n",
      "(2, 4, 7)\n",
      "(2, 4, 8)\n",
      "(2, 4, 9)\n",
      "(2, 4, 10)\n",
      "(2, 4, 11)\n",
      "(2, 4, 12)\n",
      "(2, 4, 13)\n",
      "(2, 4, 14)\n",
      "(2, 4, 15)\n",
      "(2, 5, 6)\n",
      "(2, 5, 7)\n",
      "(2, 5, 8)\n",
      "(2, 5, 9)\n",
      "(2, 5, 10)\n",
      "(2, 5, 11)\n",
      "(2, 5, 12)\n",
      "(2, 5, 13)\n",
      "(2, 5, 14)\n",
      "(2, 5, 15)\n",
      "(2, 6, 7)\n",
      "(2, 6, 8)\n",
      "(2, 6, 9)\n",
      "(2, 6, 10)\n",
      "(2, 6, 11)\n",
      "(2, 6, 12)\n",
      "(2, 6, 13)\n",
      "(2, 6, 14)\n",
      "(2, 6, 15)\n",
      "(2, 7, 8)\n",
      "(2, 7, 9)\n",
      "(2, 7, 10)\n",
      "(2, 7, 11)\n",
      "(2, 7, 12)\n",
      "(2, 7, 13)\n",
      "(2, 7, 14)\n",
      "(2, 7, 15)\n",
      "(2, 8, 9)\n",
      "(2, 8, 10)\n",
      "(2, 8, 11)\n",
      "(2, 8, 12)\n",
      "(2, 8, 13)\n",
      "(2, 8, 14)\n",
      "(2, 8, 15)\n",
      "(2, 9, 10)\n",
      "(2, 9, 11)\n",
      "(2, 9, 12)\n",
      "(2, 9, 13)\n",
      "(2, 9, 14)\n",
      "(2, 9, 15)\n",
      "(2, 10, 11)\n",
      "(2, 10, 12)\n",
      "(2, 10, 13)\n",
      "(2, 10, 14)\n",
      "(2, 10, 15)\n",
      "(2, 11, 12)\n",
      "(2, 11, 13)\n",
      "(2, 11, 14)\n",
      "(2, 11, 15)\n",
      "(2, 12, 13)\n",
      "(2, 12, 14)\n",
      "(2, 12, 15)\n",
      "(2, 13, 14)\n",
      "(2, 13, 15)\n",
      "(2, 14, 15)\n",
      "(3, 4, 5)\n",
      "(3, 4, 6)\n",
      "(3, 4, 7)\n",
      "(3, 4, 8)\n",
      "(3, 4, 9)\n",
      "(3, 4, 10)\n",
      "(3, 4, 11)\n",
      "(3, 4, 12)\n",
      "(3, 4, 13)\n",
      "(3, 4, 14)\n",
      "(3, 4, 15)\n",
      "(3, 5, 6)\n",
      "(3, 5, 7)\n",
      "(3, 5, 8)\n",
      "(3, 5, 9)\n",
      "(3, 5, 10)\n",
      "(3, 5, 11)\n",
      "(3, 5, 12)\n",
      "(3, 5, 13)\n",
      "(3, 5, 14)\n",
      "(3, 5, 15)\n",
      "(3, 6, 7)\n",
      "(3, 6, 8)\n",
      "(3, 6, 9)\n",
      "(3, 6, 10)\n",
      "(3, 6, 11)\n",
      "(3, 6, 12)\n",
      "(3, 6, 13)\n",
      "(3, 6, 14)\n",
      "(3, 6, 15)\n",
      "(3, 7, 8)\n",
      "(3, 7, 9)\n",
      "(3, 7, 10)\n",
      "(3, 7, 11)\n",
      "(3, 7, 12)\n",
      "(3, 7, 13)\n",
      "(3, 7, 14)\n",
      "(3, 7, 15)\n",
      "(3, 8, 9)\n",
      "(3, 8, 10)\n",
      "(3, 8, 11)\n",
      "(3, 8, 12)\n",
      "(3, 8, 13)\n",
      "(3, 8, 14)\n",
      "(3, 8, 15)\n",
      "(3, 9, 10)\n",
      "(3, 9, 11)\n",
      "(3, 9, 12)\n",
      "(3, 9, 13)\n",
      "(3, 9, 14)\n",
      "(3, 9, 15)\n",
      "(3, 10, 11)\n",
      "(3, 10, 12)\n",
      "(3, 10, 13)\n",
      "(3, 10, 14)\n",
      "(3, 10, 15)\n",
      "(3, 11, 12)\n",
      "(3, 11, 13)\n",
      "(3, 11, 14)\n",
      "(3, 11, 15)\n",
      "(3, 12, 13)\n",
      "(3, 12, 14)\n",
      "(3, 12, 15)\n",
      "(3, 13, 14)\n",
      "(3, 13, 15)\n",
      "(3, 14, 15)\n",
      "(4, 5, 6)\n",
      "(4, 5, 7)\n",
      "(4, 5, 8)\n",
      "(4, 5, 9)\n",
      "(4, 5, 10)\n",
      "(4, 5, 11)\n",
      "(4, 5, 12)\n",
      "(4, 5, 13)\n",
      "(4, 5, 14)\n",
      "(4, 5, 15)\n",
      "(4, 6, 7)\n",
      "(4, 6, 8)\n",
      "(4, 6, 9)\n",
      "(4, 6, 10)\n",
      "(4, 6, 11)\n",
      "(4, 6, 12)\n",
      "(4, 6, 13)\n",
      "(4, 6, 14)\n",
      "(4, 6, 15)\n",
      "(4, 7, 8)\n",
      "(4, 7, 9)\n",
      "(4, 7, 10)\n",
      "(4, 7, 11)\n",
      "(4, 7, 12)\n",
      "(4, 7, 13)\n",
      "(4, 7, 14)\n",
      "(4, 7, 15)\n",
      "(4, 8, 9)\n",
      "(4, 8, 10)\n",
      "(4, 8, 11)\n",
      "(4, 8, 12)\n",
      "(4, 8, 13)\n",
      "(4, 8, 14)\n",
      "(4, 8, 15)\n",
      "(4, 9, 10)\n",
      "(4, 9, 11)\n",
      "(4, 9, 12)\n",
      "(4, 9, 13)\n",
      "(4, 9, 14)\n",
      "(4, 9, 15)\n",
      "(4, 10, 11)\n",
      "(4, 10, 12)\n",
      "(4, 10, 13)\n",
      "(4, 10, 14)\n",
      "(4, 10, 15)\n",
      "(4, 11, 12)\n",
      "(4, 11, 13)\n",
      "(4, 11, 14)\n",
      "(4, 11, 15)\n",
      "(4, 12, 13)\n",
      "(4, 12, 14)\n",
      "(4, 12, 15)\n",
      "(4, 13, 14)\n",
      "(4, 13, 15)\n",
      "(4, 14, 15)\n",
      "(5, 6, 7)\n",
      "(5, 6, 8)\n",
      "(5, 6, 9)\n",
      "(5, 6, 10)\n",
      "(5, 6, 11)\n",
      "(5, 6, 12)\n",
      "(5, 6, 13)\n",
      "(5, 6, 14)\n",
      "(5, 6, 15)\n",
      "(5, 7, 8)\n",
      "(5, 7, 9)\n",
      "(5, 7, 10)\n",
      "(5, 7, 11)\n",
      "(5, 7, 12)\n",
      "(5, 7, 13)\n",
      "(5, 7, 14)\n",
      "(5, 7, 15)\n",
      "(5, 8, 9)\n",
      "(5, 8, 10)\n",
      "(5, 8, 11)\n",
      "(5, 8, 12)\n",
      "(5, 8, 13)\n",
      "(5, 8, 14)\n",
      "(5, 8, 15)\n",
      "(5, 9, 10)\n",
      "(5, 9, 11)\n",
      "(5, 9, 12)\n",
      "(5, 9, 13)\n",
      "(5, 9, 14)\n",
      "(5, 9, 15)\n",
      "(5, 10, 11)\n",
      "(5, 10, 12)\n",
      "(5, 10, 13)\n",
      "(5, 10, 14)\n",
      "(5, 10, 15)\n",
      "(5, 11, 12)\n",
      "(5, 11, 13)\n",
      "(5, 11, 14)\n",
      "(5, 11, 15)\n",
      "(5, 12, 13)\n",
      "(5, 12, 14)\n",
      "(5, 12, 15)\n",
      "(5, 13, 14)\n",
      "(5, 13, 15)\n",
      "(5, 14, 15)\n",
      "(6, 7, 8)\n",
      "(6, 7, 9)\n",
      "(6, 7, 10)\n",
      "(6, 7, 11)\n",
      "(6, 7, 12)\n",
      "(6, 7, 13)\n",
      "(6, 7, 14)\n",
      "(6, 7, 15)\n",
      "(6, 8, 9)\n",
      "(6, 8, 10)\n",
      "(6, 8, 11)\n",
      "(6, 8, 12)\n",
      "(6, 8, 13)\n",
      "(6, 8, 14)\n",
      "(6, 8, 15)\n",
      "(6, 9, 10)\n",
      "(6, 9, 11)\n",
      "(6, 9, 12)\n",
      "(6, 9, 13)\n",
      "(6, 9, 14)\n",
      "(6, 9, 15)\n",
      "(6, 10, 11)\n",
      "(6, 10, 12)\n",
      "(6, 10, 13)\n",
      "(6, 10, 14)\n",
      "(6, 10, 15)\n",
      "(6, 11, 12)\n",
      "(6, 11, 13)\n",
      "(6, 11, 14)\n",
      "(6, 11, 15)\n",
      "(6, 12, 13)\n",
      "(6, 12, 14)\n",
      "(6, 12, 15)\n",
      "(6, 13, 14)\n",
      "(6, 13, 15)\n",
      "(6, 14, 15)\n",
      "(7, 8, 9)\n",
      "(7, 8, 10)\n",
      "(7, 8, 11)\n",
      "(7, 8, 12)\n",
      "(7, 8, 13)\n",
      "(7, 8, 14)\n",
      "(7, 8, 15)\n",
      "(7, 9, 10)\n",
      "(7, 9, 11)\n",
      "(7, 9, 12)\n",
      "(7, 9, 13)\n",
      "(7, 9, 14)\n",
      "(7, 9, 15)\n",
      "(7, 10, 11)\n",
      "(7, 10, 12)\n",
      "(7, 10, 13)\n",
      "(7, 10, 14)\n",
      "(7, 10, 15)\n",
      "(7, 11, 12)\n",
      "(7, 11, 13)\n",
      "(7, 11, 14)\n",
      "(7, 11, 15)\n",
      "(7, 12, 13)\n",
      "(7, 12, 14)\n",
      "(7, 12, 15)\n",
      "(7, 13, 14)\n",
      "(7, 13, 15)\n",
      "(7, 14, 15)\n",
      "(8, 9, 10)\n",
      "(8, 9, 11)\n",
      "(8, 9, 12)\n",
      "(8, 9, 13)\n",
      "(8, 9, 14)\n",
      "(8, 9, 15)\n",
      "(8, 10, 11)\n",
      "(8, 10, 12)\n",
      "(8, 10, 13)\n",
      "(8, 10, 14)\n",
      "(8, 10, 15)\n",
      "(8, 11, 12)\n",
      "(8, 11, 13)\n",
      "(8, 11, 14)\n",
      "(8, 11, 15)\n",
      "(8, 12, 13)\n",
      "(8, 12, 14)\n",
      "(8, 12, 15)\n",
      "(8, 13, 14)\n",
      "(8, 13, 15)\n",
      "(8, 14, 15)\n",
      "(9, 10, 11)\n",
      "(9, 10, 12)\n",
      "(9, 10, 13)\n",
      "(9, 10, 14)\n",
      "(9, 10, 15)\n",
      "(9, 11, 12)\n",
      "(9, 11, 13)\n",
      "(9, 11, 14)\n",
      "(9, 11, 15)\n",
      "(9, 12, 13)\n",
      "(9, 12, 14)\n",
      "(9, 12, 15)\n",
      "(9, 13, 14)\n",
      "(9, 13, 15)\n",
      "(9, 14, 15)\n",
      "(10, 11, 12)\n",
      "(10, 11, 13)\n",
      "(10, 11, 14)\n",
      "(10, 11, 15)\n",
      "(10, 12, 13)\n",
      "(10, 12, 14)\n",
      "(10, 12, 15)\n",
      "(10, 13, 14)\n",
      "(10, 13, 15)\n",
      "(10, 14, 15)\n",
      "(11, 12, 13)\n",
      "(11, 12, 14)\n",
      "(11, 12, 15)\n",
      "(11, 13, 14)\n",
      "(11, 13, 15)\n",
      "(11, 14, 15)\n",
      "(12, 13, 14)\n",
      "(12, 13, 15)\n",
      "(12, 14, 15)\n",
      "(13, 14, 15)\n"
     ]
    }
   ],
   "source": [
    "num_vector = 16\n",
    "search_radius = 3\n",
    "\n",
    "for diff in combinations(range(num_vector), search_radius):\n",
    "    print(diff)"
   ]
  },
  {
   "cell_type": "markdown",
   "metadata": {},
   "source": [
    "With this output in mind, implement the logic for nearby bin search:"
   ]
  },
  {
   "cell_type": "code",
   "execution_count": 229,
   "metadata": {},
   "outputs": [
    {
     "data": {
      "text/plain": [
       "array([False, False, False,  True, False,  True,  True, False, False,\n",
       "       False,  True,  True, False, False, False, False])"
      ]
     },
     "execution_count": 229,
     "metadata": {},
     "output_type": "execute_result"
    }
   ],
   "source": [
    "model['bin_indices_bits'][obama_id]"
   ]
  },
  {
   "cell_type": "code",
   "execution_count": 204,
   "metadata": {},
   "outputs": [],
   "source": [
    "test_copy = model['bin_indices_bits'][obama_id][:] #affects original"
   ]
  },
  {
   "cell_type": "code",
   "execution_count": 205,
   "metadata": {},
   "outputs": [
    {
     "data": {
      "text/plain": [
       "array([ True,  True,  True,  True,  True,  True,  True,  True,  True,\n",
       "        True,  True,  True,  True,  True,  True,  True])"
      ]
     },
     "execution_count": 205,
     "metadata": {},
     "output_type": "execute_result"
    }
   ],
   "source": [
    "test_copy == model['bin_indices_bits'][obama_id]"
   ]
  },
  {
   "cell_type": "code",
   "execution_count": 221,
   "metadata": {},
   "outputs": [
    {
     "data": {
      "text/plain": [
       "True"
      ]
     },
     "execution_count": 221,
     "metadata": {},
     "output_type": "execute_result"
    }
   ],
   "source": [
    "test_copy[1] is model['bin_indices_bits'][obama_id][1]"
   ]
  },
  {
   "cell_type": "code",
   "execution_count": 228,
   "metadata": {},
   "outputs": [
    {
     "data": {
      "text/plain": [
       "array([False, False, False,  True, False,  True,  True, False, False,\n",
       "       False,  True,  True, False, False, False, False])"
      ]
     },
     "execution_count": 228,
     "metadata": {},
     "output_type": "execute_result"
    }
   ],
   "source": [
    "test_copy[0] = False\n",
    "model['bin_indices_bits'][obama_id] #affects original"
   ]
  },
  {
   "cell_type": "code",
   "execution_count": 222,
   "metadata": {},
   "outputs": [],
   "source": [
    "test_copy_2 = list(model['bin_indices_bits'][obama_id]) #doesn't affect original"
   ]
  },
  {
   "cell_type": "code",
   "execution_count": 223,
   "metadata": {
    "scrolled": true
   },
   "outputs": [
    {
     "data": {
      "text/plain": [
       "True"
      ]
     },
     "execution_count": 223,
     "metadata": {},
     "output_type": "execute_result"
    }
   ],
   "source": [
    "test_copy_2[0] is model['bin_indices_bits'][obama_id][0]"
   ]
  },
  {
   "cell_type": "code",
   "execution_count": 230,
   "metadata": {},
   "outputs": [
    {
     "data": {
      "text/plain": [
       "array([False, False, False,  True, False,  True,  True, False, False,\n",
       "       False,  True,  True, False, False, False, False])"
      ]
     },
     "execution_count": 230,
     "metadata": {},
     "output_type": "execute_result"
    }
   ],
   "source": [
    "test_copy_2[2] = True\n",
    "model['bin_indices_bits'][obama_id] #doesn't affect original"
   ]
  },
  {
   "cell_type": "code",
   "execution_count": 224,
   "metadata": {},
   "outputs": [],
   "source": [
    "test_copy_3 = copy(model['bin_indices_bits'][obama_id]) #doesn't affect original"
   ]
  },
  {
   "cell_type": "code",
   "execution_count": 225,
   "metadata": {},
   "outputs": [
    {
     "data": {
      "text/plain": [
       "True"
      ]
     },
     "execution_count": 225,
     "metadata": {},
     "output_type": "execute_result"
    }
   ],
   "source": [
    "test_copy_3[0] is model['bin_indices_bits'][obama_id][0]"
   ]
  },
  {
   "cell_type": "code",
   "execution_count": 231,
   "metadata": {},
   "outputs": [
    {
     "data": {
      "text/plain": [
       "array([False, False, False,  True, False,  True,  True, False, False,\n",
       "       False,  True,  True, False, False, False, False])"
      ]
     },
     "execution_count": 231,
     "metadata": {},
     "output_type": "execute_result"
    }
   ],
   "source": [
    "test_copy_3[2] = True\n",
    "model['bin_indices_bits'][obama_id] #doesn't affect original"
   ]
  },
  {
   "cell_type": "code",
   "execution_count": 219,
   "metadata": {},
   "outputs": [
    {
     "data": {
      "text/plain": [
       "array([ True, False, False,  True, False,  True,  True, False, False,\n",
       "       False,  True,  True, False, False, False, False])"
      ]
     },
     "execution_count": 219,
     "metadata": {},
     "output_type": "execute_result"
    }
   ],
   "source": [
    "test_list = [0,1,5,7]\n",
    "alt_list = model['bin_indices_bits'][obama_id].copy()\n",
    "for i in test_list:\n",
    "    alt_list[i] = not alt_list[i]\n",
    "alt_list"
   ]
  },
  {
   "cell_type": "code",
   "execution_count": 80,
   "metadata": {},
   "outputs": [],
   "source": [
    "alt_list[0] = 0"
   ]
  },
  {
   "cell_type": "code",
   "execution_count": 81,
   "metadata": {},
   "outputs": [
    {
     "data": {
      "text/plain": [
       "array([False, False, False,  True, False,  True,  True, False, False,\n",
       "       False,  True,  True, False, False, False, False])"
      ]
     },
     "execution_count": 81,
     "metadata": {},
     "output_type": "execute_result"
    }
   ],
   "source": [
    "alt_list"
   ]
  },
  {
   "cell_type": "code",
   "execution_count": 153,
   "metadata": {},
   "outputs": [
    {
     "data": {
      "text/plain": [
       "[10, 1, 5, 7]"
      ]
     },
     "execution_count": 153,
     "metadata": {},
     "output_type": "execute_result"
    }
   ],
   "source": [
    "test_list_2 = test_list[:]\n",
    "test_list_2[0]=10\n",
    "test_list_2"
   ]
  },
  {
   "cell_type": "code",
   "execution_count": 154,
   "metadata": {},
   "outputs": [
    {
     "data": {
      "text/plain": [
       "[10, 1, 5, 7]"
      ]
     },
     "execution_count": 154,
     "metadata": {},
     "output_type": "execute_result"
    }
   ],
   "source": [
    "test_list"
   ]
  },
  {
   "cell_type": "code",
   "execution_count": 91,
   "metadata": {},
   "outputs": [],
   "source": [
    "test_set = {1,2,5,7,8}\n",
    "test_set.update([9,9,0])"
   ]
  },
  {
   "cell_type": "code",
   "execution_count": 145,
   "metadata": {},
   "outputs": [
    {
     "data": {
      "text/plain": [
       "{0, 1, 2, 5, 7, 8, 9}"
      ]
     },
     "execution_count": 145,
     "metadata": {},
     "output_type": "execute_result"
    }
   ],
   "source": [
    "test_set"
   ]
  },
  {
   "cell_type": "code",
   "execution_count": 148,
   "metadata": {},
   "outputs": [
    {
     "data": {
      "text/plain": [
       "{0, 1, 2, 5, 7, 8, 9}"
      ]
     },
     "execution_count": 148,
     "metadata": {},
     "output_type": "execute_result"
    }
   ],
   "source": [
    "test_set_2 = copy(test_set)\n",
    "test_set_2"
   ]
  },
  {
   "cell_type": "code",
   "execution_count": 93,
   "metadata": {},
   "outputs": [],
   "source": [
    "test_dic = {'a':'apple','b':'banana'}"
   ]
  },
  {
   "cell_type": "code",
   "execution_count": 94,
   "metadata": {},
   "outputs": [
    {
     "data": {
      "text/plain": [
       "True"
      ]
     },
     "execution_count": 94,
     "metadata": {},
     "output_type": "execute_result"
    }
   ],
   "source": [
    "'a' in test_dic"
   ]
  },
  {
   "cell_type": "code",
   "execution_count": 95,
   "metadata": {},
   "outputs": [
    {
     "data": {
      "text/plain": [
       "False"
      ]
     },
     "execution_count": 95,
     "metadata": {},
     "output_type": "execute_result"
    }
   ],
   "source": [
    "'apple' in test_dic"
   ]
  },
  {
   "cell_type": "code",
   "execution_count": 111,
   "metadata": {},
   "outputs": [
    {
     "name": "stdout",
     "output_type": "stream",
     "text": [
      "next\n"
     ]
    }
   ],
   "source": [
    "for i in combinations(range(5), 0):\n",
    "    for j in i:\n",
    "        print(j)\n",
    "    print('next')"
   ]
  },
  {
   "cell_type": "code",
   "execution_count": 233,
   "metadata": {},
   "outputs": [],
   "source": [
    "def search_nearby_bins(query_bin_bits, table, search_radius=2, initial_candidates=set()):\n",
    "    \"\"\"\n",
    "    For a given query vector and trained LSH model, return all candidate neighbors for\n",
    "    the query among all bins within the given search radius.\n",
    "    \n",
    "    Example usage\n",
    "    -------------\n",
    "    >>> model = train_lsh(corpus, num_vector=16, seed=143)\n",
    "    >>> q = model['bin_index_bits'][0]  # vector for the first document\n",
    "  \n",
    "    >>> candidates = search_nearby_bins(q, model['table'])\n",
    "    \"\"\"\n",
    "    num_vector = len(query_bin_bits)\n",
    "    powers_of_two = 1 << np.arange(num_vector-1, -1, -1)\n",
    "    \n",
    "    # Allow the user to provide an initial set of candidates.\n",
    "    candidate_set = copy(initial_candidates)\n",
    "    \n",
    "    for different_bits in combinations(range(num_vector), search_radius):       \n",
    "        # Flip the bits (n_1,n_2,...,n_r) of the query bin to produce a new bit vector.\n",
    "        ## Hint: you can iterate over a tuple like a list\n",
    "        alternate_bits = copy(query_bin_bits)\n",
    "        for i in different_bits:\n",
    "            alternate_bits[i] = (not query_bin_bits[i])  # YOUR CODE HERE \n",
    "        \n",
    "        # Convert the new bit vector to an integer index\n",
    "        nearby_bin = alternate_bits.dot(powers_of_two)\n",
    "        \n",
    "        # Fetch the list of documents belonging to the bin indexed by the new bit vector.\n",
    "        # Then add those documents to candidate_set\n",
    "        # Make sure that the bin exists in the table!\n",
    "        # Hint: update() method for sets lets you add an entire list to the set\n",
    "        if nearby_bin in table:\n",
    "            more_docs = table[nearby_bin] # Get all document_ids of the bin\n",
    "            candidate_set.update(more_docs) # YOUR CODE HERE: Update candidate_set with the documents in this bin.\n",
    "            \n",
    "    return candidate_set"
   ]
  },
  {
   "cell_type": "markdown",
   "metadata": {},
   "source": [
    "**Checkpoint**. Running the function with `search_radius=0` should yield the list of documents belonging to the same bin as the query."
   ]
  },
  {
   "cell_type": "code",
   "execution_count": 168,
   "metadata": {},
   "outputs": [
    {
     "data": {
      "text/plain": [
       "35817"
      ]
     },
     "execution_count": 168,
     "metadata": {},
     "output_type": "execute_result"
    }
   ],
   "source": [
    "obama_id"
   ]
  },
  {
   "cell_type": "code",
   "execution_count": 169,
   "metadata": {},
   "outputs": [
    {
     "data": {
      "text/plain": [
       "38448"
      ]
     },
     "execution_count": 169,
     "metadata": {},
     "output_type": "execute_result"
    }
   ],
   "source": [
    "model['bin_indices'][obama_id]"
   ]
  },
  {
   "cell_type": "code",
   "execution_count": 182,
   "metadata": {},
   "outputs": [
    {
     "data": {
      "text/plain": [
       "array([False,  True, False,  True, False, False,  True,  True, False,\n",
       "       False,  True,  True, False, False, False, False])"
      ]
     },
     "execution_count": 182,
     "metadata": {},
     "output_type": "execute_result"
    }
   ],
   "source": [
    "model['bin_indices_bits'][obama_id]"
   ]
  },
  {
   "cell_type": "code",
   "execution_count": 189,
   "metadata": {},
   "outputs": [
    {
     "data": {
      "text/plain": [
       "array([False,  True, False,  True, False, False,  True,  True, False,\n",
       "       False,  True,  True, False, False, False, False])"
      ]
     },
     "execution_count": 189,
     "metadata": {},
     "output_type": "execute_result"
    }
   ],
   "source": [
    "model['bin_indices_bits'][obama_id]"
   ]
  },
  {
   "cell_type": "code",
   "execution_count": 190,
   "metadata": {
    "scrolled": true
   },
   "outputs": [
    {
     "data": {
      "text/plain": [
       "[35817, 54743]"
      ]
     },
     "execution_count": 190,
     "metadata": {},
     "output_type": "execute_result"
    }
   ],
   "source": [
    "model['table'][38448]"
   ]
  },
  {
   "cell_type": "code",
   "execution_count": 194,
   "metadata": {},
   "outputs": [],
   "source": [
    "obama_bin_index = model['bin_indices_bits'][35817]"
   ]
  },
  {
   "cell_type": "code",
   "execution_count": 195,
   "metadata": {},
   "outputs": [
    {
     "data": {
      "text/plain": [
       "38448"
      ]
     },
     "execution_count": 195,
     "metadata": {},
     "output_type": "execute_result"
    }
   ],
   "source": [
    "obama_bin_index.dot(powers_of_two)"
   ]
  },
  {
   "cell_type": "code",
   "execution_count": 234,
   "metadata": {},
   "outputs": [
    {
     "name": "stdout",
     "output_type": "stream",
     "text": [
      "Passed test\n",
      "List of documents in the same bin as Obama: {35817, 54743}\n"
     ]
    }
   ],
   "source": [
    "obama_bin_index = model['bin_indices_bits'][35817] # bin index of Barack Obama\n",
    "candidate_set = search_nearby_bins(obama_bin_index, model['table'], search_radius=0)\n",
    "if candidate_set == set({35817, 54743}):\n",
    "    print('Passed test')\n",
    "else:\n",
    "    print('Check your code')\n",
    "print('List of documents in the same bin as Obama: {}'.format(candidate_set))"
   ]
  },
  {
   "cell_type": "markdown",
   "metadata": {},
   "source": [
    "**Checkpoint**. Running the function with `search_radius=1` adds more documents to the fore."
   ]
  },
  {
   "cell_type": "code",
   "execution_count": 235,
   "metadata": {},
   "outputs": [
    {
     "name": "stdout",
     "output_type": "stream",
     "text": [
      "Passed test\n",
      "{42243, 28804, 1810, 48919, 24478, 31010, 7331, 23716, 51108, 48040, 36266, 33200, 25023, 23617, 54743, 34910, 35817, 34159, 14451, 23926, 39032, 12028, 43775}\n"
     ]
    }
   ],
   "source": [
    "candidate_set = search_nearby_bins(obama_bin_index, model['table'], search_radius=1, initial_candidates=candidate_set)\n",
    "if candidate_set == set({42243, 28804, 1810, 48919, 24478, 31010, 7331, 23716, 51108, 48040, 36266, 33200, 25023, 23617, 54743, 34910, 35817, 34159, 14451, 23926, 39032, 12028, 43775}):\n",
    "    print('Passed test')\n",
    "else:\n",
    "    print('Check your code')\n",
    "print(candidate_set)"
   ]
  },
  {
   "cell_type": "markdown",
   "metadata": {},
   "source": [
    "**Note**. Don't be surprised if few of the candidates look similar to Obama. This is why we add as many candidates as our computational budget allows and sort them by their distance to the query."
   ]
  },
  {
   "cell_type": "markdown",
   "metadata": {},
   "source": [
    "Now we have a function that can return all the candidates from neighboring bins. Next we write a function to collect all candidates and compute their true distance to the query."
   ]
  },
  {
   "cell_type": "code",
   "execution_count": 274,
   "metadata": {},
   "outputs": [
    {
     "name": "stdout",
     "output_type": "stream",
     "text": [
      "(1, 16)\n",
      "(16,)\n"
     ]
    }
   ],
   "source": [
    "print(corpus[obama_id].dot(model['random_vectors']).shape)\n",
    "print(corpus[obama_id].dot(model['random_vectors']).flatten().shape)"
   ]
  },
  {
   "cell_type": "code",
   "execution_count": 280,
   "metadata": {},
   "outputs": [
    {
     "data": {
      "text/plain": [
       "<3x547979 sparse matrix of type '<class 'numpy.float64'>'\n",
       "\twith 551 stored elements in Compressed Sparse Row format>"
      ]
     },
     "execution_count": 280,
     "metadata": {},
     "output_type": "execute_result"
    }
   ],
   "source": [
    "corpus[[0,1,6]]"
   ]
  },
  {
   "cell_type": "code",
   "execution_count": 279,
   "metadata": {},
   "outputs": [
    {
     "data": {
      "text/plain": [
       "<3x547979 sparse matrix of type '<class 'numpy.float64'>'\n",
       "\twith 551 stored elements in Compressed Sparse Row format>"
      ]
     },
     "execution_count": 279,
     "metadata": {},
     "output_type": "execute_result"
    }
   ],
   "source": [
    "corpus[np.array([0,1,6]),:]"
   ]
  },
  {
   "cell_type": "code",
   "execution_count": 297,
   "metadata": {
    "scrolled": true
   },
   "outputs": [
    {
     "data": {
      "text/plain": [
       "array([[6.],\n",
       "       [4.]])"
      ]
     },
     "execution_count": 297,
     "metadata": {},
     "output_type": "execute_result"
    }
   ],
   "source": [
    "pairwise_distances([[1,1,1,1],[2,2,2,2]],[[4,4,4,4]])"
   ]
  },
  {
   "cell_type": "code",
   "execution_count": 300,
   "metadata": {},
   "outputs": [
    {
     "data": {
      "text/plain": [
       "array([  0.        , 124.49607248, 207.14931526])"
      ]
     },
     "execution_count": 300,
     "metadata": {},
     "output_type": "execute_result"
    }
   ],
   "source": [
    "pairwise_distances(corpus[np.array([0,1,6]),:],corpus[np.array(0),:]).flatten()"
   ]
  },
  {
   "cell_type": "code",
   "execution_count": 293,
   "metadata": {},
   "outputs": [
    {
     "data": {
      "text/plain": [
       "[[1, 1, 1, 1], [2, 2, 2, 2]]"
      ]
     },
     "execution_count": 293,
     "metadata": {},
     "output_type": "execute_result"
    }
   ],
   "source": [
    "[[1,1,1,1],[2,2,2,2]]"
   ]
  },
  {
   "cell_type": "code",
   "execution_count": 301,
   "metadata": {},
   "outputs": [],
   "source": [
    "test_sframe = turicreate.SFrame({'id':[1,2,3]})"
   ]
  },
  {
   "cell_type": "code",
   "execution_count": 311,
   "metadata": {},
   "outputs": [],
   "source": [
    "test_sframe['distance'] = (4,5,6)"
   ]
  },
  {
   "cell_type": "code",
   "execution_count": 312,
   "metadata": {},
   "outputs": [
    {
     "data": {
      "text/html": [
       "<div style=\"max-height:1000px;max-width:1500px;overflow:auto;\"><table frame=\"box\" rules=\"cols\">\n",
       "    <tr>\n",
       "        <th style=\"padding-left: 1em; padding-right: 1em; text-align: center\">id</th>\n",
       "        <th style=\"padding-left: 1em; padding-right: 1em; text-align: center\">distance</th>\n",
       "    </tr>\n",
       "    <tr>\n",
       "        <td style=\"padding-left: 1em; padding-right: 1em; text-align: center; vertical-align: top\">1</td>\n",
       "        <td style=\"padding-left: 1em; padding-right: 1em; text-align: center; vertical-align: top\">4</td>\n",
       "    </tr>\n",
       "    <tr>\n",
       "        <td style=\"padding-left: 1em; padding-right: 1em; text-align: center; vertical-align: top\">2</td>\n",
       "        <td style=\"padding-left: 1em; padding-right: 1em; text-align: center; vertical-align: top\">5</td>\n",
       "    </tr>\n",
       "    <tr>\n",
       "        <td style=\"padding-left: 1em; padding-right: 1em; text-align: center; vertical-align: top\">3</td>\n",
       "        <td style=\"padding-left: 1em; padding-right: 1em; text-align: center; vertical-align: top\">6</td>\n",
       "    </tr>\n",
       "</table>\n",
       "[3 rows x 2 columns]<br/>\n",
       "</div>"
      ],
      "text/plain": [
       "Columns:\n",
       "\tid\tint\n",
       "\tdistance\tint\n",
       "\n",
       "Rows: 3\n",
       "\n",
       "Data:\n",
       "+----+----------+\n",
       "| id | distance |\n",
       "+----+----------+\n",
       "| 1  |    4     |\n",
       "| 2  |    5     |\n",
       "| 3  |    6     |\n",
       "+----+----------+\n",
       "[3 rows x 2 columns]"
      ]
     },
     "execution_count": 312,
     "metadata": {},
     "output_type": "execute_result"
    }
   ],
   "source": [
    "test_sframe"
   ]
  },
  {
   "cell_type": "code",
   "execution_count": 313,
   "metadata": {
    "scrolled": true
   },
   "outputs": [],
   "source": [
    "def query(vec, model, k, max_search_radius):\n",
    "  \n",
    "    data = model['data']\n",
    "    table = model['table']\n",
    "    random_vectors = model['random_vectors']\n",
    "    num_vector = random_vectors.shape[1]\n",
    "    \n",
    "    \n",
    "    # Compute bin index for the query vector, in bit representation.\n",
    "    bin_index_bits = (vec.dot(random_vectors) >= 0).flatten() # [[]].flatten() -> []\n",
    "                                        #used flatten instead of ravel since we will change index_bits later?\n",
    "    \n",
    "    # Search nearby bins and collect candidates\n",
    "    candidate_set = set()\n",
    "    for search_radius in range(max_search_radius+1):\n",
    "        candidate_set = search_nearby_bins(bin_index_bits, table, search_radius, initial_candidates=candidate_set)\n",
    "    \n",
    "    # Sort candidates by their true distances from the query\n",
    "    nearest_neighbors = turicreate.SFrame({'id':candidate_set})\n",
    "    candidates = data[np.array(list(candidate_set)),:]\n",
    "    nearest_neighbors['distance'] = pairwise_distances(candidates, vec, metric='cosine').flatten()\n",
    "    \n",
    "    return nearest_neighbors.topk('distance', k, reverse=True), len(candidate_set)"
   ]
  },
  {
   "cell_type": "markdown",
   "metadata": {},
   "source": [
    "Let's try it out with Obama:"
   ]
  },
  {
   "cell_type": "code",
   "execution_count": 320,
   "metadata": {},
   "outputs": [
    {
     "data": {
      "text/html": [
       "<div style=\"max-height:1000px;max-width:1500px;overflow:auto;\"><table frame=\"box\" rules=\"cols\">\n",
       "    <tr>\n",
       "        <th style=\"padding-left: 1em; padding-right: 1em; text-align: center\">id</th>\n",
       "        <th style=\"padding-left: 1em; padding-right: 1em; text-align: center\">distance</th>\n",
       "    </tr>\n",
       "    <tr>\n",
       "        <td style=\"padding-left: 1em; padding-right: 1em; text-align: center; vertical-align: top\">35817</td>\n",
       "        <td style=\"padding-left: 1em; padding-right: 1em; text-align: center; vertical-align: top\">1.1102230246251565e-16</td>\n",
       "    </tr>\n",
       "    <tr>\n",
       "        <td style=\"padding-left: 1em; padding-right: 1em; text-align: center; vertical-align: top\">24478</td>\n",
       "        <td style=\"padding-left: 1em; padding-right: 1em; text-align: center; vertical-align: top\">0.703138676733575</td>\n",
       "    </tr>\n",
       "    <tr>\n",
       "        <td style=\"padding-left: 1em; padding-right: 1em; text-align: center; vertical-align: top\">38376</td>\n",
       "        <td style=\"padding-left: 1em; padding-right: 1em; text-align: center; vertical-align: top\">0.7429819023278823</td>\n",
       "    </tr>\n",
       "    <tr>\n",
       "        <td style=\"padding-left: 1em; padding-right: 1em; text-align: center; vertical-align: top\">4032</td>\n",
       "        <td style=\"padding-left: 1em; padding-right: 1em; text-align: center; vertical-align: top\">0.8145547486714284</td>\n",
       "    </tr>\n",
       "    <tr>\n",
       "        <td style=\"padding-left: 1em; padding-right: 1em; text-align: center; vertical-align: top\">43155</td>\n",
       "        <td style=\"padding-left: 1em; padding-right: 1em; text-align: center; vertical-align: top\">0.8408390074837325</td>\n",
       "    </tr>\n",
       "    <tr>\n",
       "        <td style=\"padding-left: 1em; padding-right: 1em; text-align: center; vertical-align: top\">20159</td>\n",
       "        <td style=\"padding-left: 1em; padding-right: 1em; text-align: center; vertical-align: top\">0.844036884280093</td>\n",
       "    </tr>\n",
       "    <tr>\n",
       "        <td style=\"padding-left: 1em; padding-right: 1em; text-align: center; vertical-align: top\">11517</td>\n",
       "        <td style=\"padding-left: 1em; padding-right: 1em; text-align: center; vertical-align: top\">0.8483420107162964</td>\n",
       "    </tr>\n",
       "    <tr>\n",
       "        <td style=\"padding-left: 1em; padding-right: 1em; text-align: center; vertical-align: top\">46332</td>\n",
       "        <td style=\"padding-left: 1em; padding-right: 1em; text-align: center; vertical-align: top\">0.8897020225435585</td>\n",
       "    </tr>\n",
       "    <tr>\n",
       "        <td style=\"padding-left: 1em; padding-right: 1em; text-align: center; vertical-align: top\">22063</td>\n",
       "        <td style=\"padding-left: 1em; padding-right: 1em; text-align: center; vertical-align: top\">0.8946710479694914</td>\n",
       "    </tr>\n",
       "    <tr>\n",
       "        <td style=\"padding-left: 1em; padding-right: 1em; text-align: center; vertical-align: top\">10437</td>\n",
       "        <td style=\"padding-left: 1em; padding-right: 1em; text-align: center; vertical-align: top\">0.9001571479475322</td>\n",
       "    </tr>\n",
       "</table>\n",
       "[10 rows x 2 columns]<br/>\n",
       "</div>"
      ],
      "text/plain": [
       "Columns:\n",
       "\tid\tint\n",
       "\tdistance\tfloat\n",
       "\n",
       "Rows: 10\n",
       "\n",
       "Data:\n",
       "+-------+------------------------+\n",
       "|   id  |        distance        |\n",
       "+-------+------------------------+\n",
       "| 35817 | 1.1102230246251565e-16 |\n",
       "| 24478 |   0.703138676733575    |\n",
       "| 38376 |   0.7429819023278823   |\n",
       "|  4032 |   0.8145547486714284   |\n",
       "| 43155 |   0.8408390074837325   |\n",
       "| 20159 |   0.844036884280093    |\n",
       "| 11517 |   0.8483420107162964   |\n",
       "| 46332 |   0.8897020225435585   |\n",
       "| 22063 |   0.8946710479694914   |\n",
       "| 10437 |   0.9001571479475322   |\n",
       "+-------+------------------------+\n",
       "[10 rows x 2 columns]"
      ]
     },
     "execution_count": 320,
     "metadata": {},
     "output_type": "execute_result"
    }
   ],
   "source": [
    "query(corpus[35817,:], model, k=10, max_search_radius=3)[0]"
   ]
  },
  {
   "cell_type": "markdown",
   "metadata": {},
   "source": [
    "To identify the documents, it's helpful to join this table with the Wikipedia table:"
   ]
  },
  {
   "cell_type": "code",
   "execution_count": 315,
   "metadata": {},
   "outputs": [
    {
     "data": {
      "text/html": [
       "<div style=\"max-height:1000px;max-width:1500px;overflow:auto;\"><table frame=\"box\" rules=\"cols\">\n",
       "    <tr>\n",
       "        <th style=\"padding-left: 1em; padding-right: 1em; text-align: center\">id</th>\n",
       "        <th style=\"padding-left: 1em; padding-right: 1em; text-align: center\">distance</th>\n",
       "        <th style=\"padding-left: 1em; padding-right: 1em; text-align: center\">name</th>\n",
       "    </tr>\n",
       "    <tr>\n",
       "        <td style=\"padding-left: 1em; padding-right: 1em; text-align: center; vertical-align: top\">35817</td>\n",
       "        <td style=\"padding-left: 1em; padding-right: 1em; text-align: center; vertical-align: top\">1.1102230246251565e-16</td>\n",
       "        <td style=\"padding-left: 1em; padding-right: 1em; text-align: center; vertical-align: top\">Barack Obama</td>\n",
       "    </tr>\n",
       "    <tr>\n",
       "        <td style=\"padding-left: 1em; padding-right: 1em; text-align: center; vertical-align: top\">24478</td>\n",
       "        <td style=\"padding-left: 1em; padding-right: 1em; text-align: center; vertical-align: top\">0.703138676733575</td>\n",
       "        <td style=\"padding-left: 1em; padding-right: 1em; text-align: center; vertical-align: top\">Joe Biden</td>\n",
       "    </tr>\n",
       "    <tr>\n",
       "        <td style=\"padding-left: 1em; padding-right: 1em; text-align: center; vertical-align: top\">38376</td>\n",
       "        <td style=\"padding-left: 1em; padding-right: 1em; text-align: center; vertical-align: top\">0.7429819023278823</td>\n",
       "        <td style=\"padding-left: 1em; padding-right: 1em; text-align: center; vertical-align: top\">Samantha Power</td>\n",
       "    </tr>\n",
       "    <tr>\n",
       "        <td style=\"padding-left: 1em; padding-right: 1em; text-align: center; vertical-align: top\">4032</td>\n",
       "        <td style=\"padding-left: 1em; padding-right: 1em; text-align: center; vertical-align: top\">0.8145547486714284</td>\n",
       "        <td style=\"padding-left: 1em; padding-right: 1em; text-align: center; vertical-align: top\">Kenneth D. Thompson</td>\n",
       "    </tr>\n",
       "    <tr>\n",
       "        <td style=\"padding-left: 1em; padding-right: 1em; text-align: center; vertical-align: top\">43155</td>\n",
       "        <td style=\"padding-left: 1em; padding-right: 1em; text-align: center; vertical-align: top\">0.8408390074837325</td>\n",
       "        <td style=\"padding-left: 1em; padding-right: 1em; text-align: center; vertical-align: top\">Goodwin Liu</td>\n",
       "    </tr>\n",
       "    <tr>\n",
       "        <td style=\"padding-left: 1em; padding-right: 1em; text-align: center; vertical-align: top\">20159</td>\n",
       "        <td style=\"padding-left: 1em; padding-right: 1em; text-align: center; vertical-align: top\">0.844036884280093</td>\n",
       "        <td style=\"padding-left: 1em; padding-right: 1em; text-align: center; vertical-align: top\">Charlie Crist</td>\n",
       "    </tr>\n",
       "    <tr>\n",
       "        <td style=\"padding-left: 1em; padding-right: 1em; text-align: center; vertical-align: top\">11517</td>\n",
       "        <td style=\"padding-left: 1em; padding-right: 1em; text-align: center; vertical-align: top\">0.8483420107162964</td>\n",
       "        <td style=\"padding-left: 1em; padding-right: 1em; text-align: center; vertical-align: top\">Louis Susman</td>\n",
       "    </tr>\n",
       "    <tr>\n",
       "        <td style=\"padding-left: 1em; padding-right: 1em; text-align: center; vertical-align: top\">46332</td>\n",
       "        <td style=\"padding-left: 1em; padding-right: 1em; text-align: center; vertical-align: top\">0.8897020225435585</td>\n",
       "        <td style=\"padding-left: 1em; padding-right: 1em; text-align: center; vertical-align: top\">Tom Tancredo</td>\n",
       "    </tr>\n",
       "    <tr>\n",
       "        <td style=\"padding-left: 1em; padding-right: 1em; text-align: center; vertical-align: top\">22063</td>\n",
       "        <td style=\"padding-left: 1em; padding-right: 1em; text-align: center; vertical-align: top\">0.8946710479694914</td>\n",
       "        <td style=\"padding-left: 1em; padding-right: 1em; text-align: center; vertical-align: top\">Kathryn Troutman</td>\n",
       "    </tr>\n",
       "    <tr>\n",
       "        <td style=\"padding-left: 1em; padding-right: 1em; text-align: center; vertical-align: top\">10437</td>\n",
       "        <td style=\"padding-left: 1em; padding-right: 1em; text-align: center; vertical-align: top\">0.9001571479475322</td>\n",
       "        <td style=\"padding-left: 1em; padding-right: 1em; text-align: center; vertical-align: top\">David J. Hayes</td>\n",
       "    </tr>\n",
       "</table>\n",
       "[10 rows x 3 columns]<br/>\n",
       "</div>"
      ],
      "text/plain": [
       "Columns:\n",
       "\tid\tint\n",
       "\tdistance\tfloat\n",
       "\tname\tstr\n",
       "\n",
       "Rows: 10\n",
       "\n",
       "Data:\n",
       "+-------+------------------------+---------------------+\n",
       "|   id  |        distance        |         name        |\n",
       "+-------+------------------------+---------------------+\n",
       "| 35817 | 1.1102230246251565e-16 |     Barack Obama    |\n",
       "| 24478 |   0.703138676733575    |      Joe Biden      |\n",
       "| 38376 |   0.7429819023278823   |    Samantha Power   |\n",
       "|  4032 |   0.8145547486714284   | Kenneth D. Thompson |\n",
       "| 43155 |   0.8408390074837325   |     Goodwin Liu     |\n",
       "| 20159 |   0.844036884280093    |    Charlie Crist    |\n",
       "| 11517 |   0.8483420107162964   |     Louis Susman    |\n",
       "| 46332 |   0.8897020225435585   |     Tom Tancredo    |\n",
       "| 22063 |   0.8946710479694914   |   Kathryn Troutman  |\n",
       "| 10437 |   0.9001571479475322   |    David J. Hayes   |\n",
       "+-------+------------------------+---------------------+\n",
       "[10 rows x 3 columns]"
      ]
     },
     "execution_count": 315,
     "metadata": {},
     "output_type": "execute_result"
    }
   ],
   "source": [
    "query(corpus[35817,:], model, k=10, max_search_radius=3)[0].join(wiki[['id', 'name']], on='id').sort('distance')"
   ]
  },
  {
   "cell_type": "markdown",
   "metadata": {},
   "source": [
    "We have shown that we have a working LSH implementation!"
   ]
  },
  {
   "cell_type": "markdown",
   "metadata": {},
   "source": [
    "# Experimenting with your LSH implementation"
   ]
  },
  {
   "cell_type": "markdown",
   "metadata": {},
   "source": [
    "In the following sections we have implemented a few experiments so that you can gain intuition for how your LSH implementation behaves in different situations. This will help you understand the effect of searching nearby bins and the performance of LSH versus computing nearest neighbors using a brute force search."
   ]
  },
  {
   "cell_type": "markdown",
   "metadata": {},
   "source": [
    "## Effect of nearby bin search"
   ]
  },
  {
   "cell_type": "markdown",
   "metadata": {},
   "source": [
    "How does nearby bin search affect the outcome of LSH? There are three variables that are affected by the search radius:\n",
    "* Number of candidate documents considered\n",
    "* Query time\n",
    "* Distance of approximate neighbors from the query"
   ]
  },
  {
   "cell_type": "markdown",
   "metadata": {},
   "source": [
    "Let us run LSH multiple times, each with different radii for nearby bin search. We will measure the three variables as discussed above."
   ]
  },
  {
   "cell_type": "code",
   "execution_count": 321,
   "metadata": {},
   "outputs": [
    {
     "data": {
      "text/html": [
       "<div style=\"max-height:1000px;max-width:1500px;overflow:auto;\"><table frame=\"box\" rules=\"cols\">\n",
       "    <tr>\n",
       "        <th style=\"padding-left: 1em; padding-right: 1em; text-align: center\">id</th>\n",
       "        <th style=\"padding-left: 1em; padding-right: 1em; text-align: center\">URI</th>\n",
       "        <th style=\"padding-left: 1em; padding-right: 1em; text-align: center\">name</th>\n",
       "        <th style=\"padding-left: 1em; padding-right: 1em; text-align: center\">text</th>\n",
       "        <th style=\"padding-left: 1em; padding-right: 1em; text-align: center\">tf_idf</th>\n",
       "    </tr>\n",
       "    <tr>\n",
       "        <td style=\"padding-left: 1em; padding-right: 1em; text-align: center; vertical-align: top\">35817</td>\n",
       "        <td style=\"padding-left: 1em; padding-right: 1em; text-align: center; vertical-align: top\">&lt;http://dbpedia.org/resou<br>rce/Barack_Obama&gt; ...</td>\n",
       "        <td style=\"padding-left: 1em; padding-right: 1em; text-align: center; vertical-align: top\">Barack Obama</td>\n",
       "        <td style=\"padding-left: 1em; padding-right: 1em; text-align: center; vertical-align: top\">barack hussein obama ii<br>brk husen bm born august ...</td>\n",
       "        <td style=\"padding-left: 1em; padding-right: 1em; text-align: center; vertical-align: top\">{&#x27;cuba&#x27;:<br>5.005081177970713, ...</td>\n",
       "    </tr>\n",
       "</table>\n",
       "[? rows x 5 columns]<br/>Note: Only the head of the SFrame is printed. This SFrame is lazily evaluated.<br/>You can use sf.materialize() to force materialization.\n",
       "</div>"
      ],
      "text/plain": [
       "Columns:\n",
       "\tid\tint\n",
       "\tURI\tstr\n",
       "\tname\tstr\n",
       "\ttext\tstr\n",
       "\ttf_idf\tdict\n",
       "\n",
       "Rows: Unknown\n",
       "\n",
       "Data:\n",
       "+-------+-------------------------------+--------------+\n",
       "|   id  |              URI              |     name     |\n",
       "+-------+-------------------------------+--------------+\n",
       "| 35817 | <http://dbpedia.org/resour... | Barack Obama |\n",
       "+-------+-------------------------------+--------------+\n",
       "+-------------------------------+-------------------------------+\n",
       "|              text             |             tf_idf            |\n",
       "+-------------------------------+-------------------------------+\n",
       "| barack hussein obama ii br... | {'cuba': 5.005081177970713... |\n",
       "+-------------------------------+-------------------------------+\n",
       "[? rows x 5 columns]\n",
       "Note: Only the head of the SFrame is printed. This SFrame is lazily evaluated.\n",
       "You can use sf.materialize() to force materialization."
      ]
     },
     "execution_count": 321,
     "metadata": {},
     "output_type": "execute_result"
    }
   ],
   "source": [
    "wiki[wiki['name']=='Barack Obama']"
   ]
  },
  {
   "cell_type": "code",
   "execution_count": 322,
   "metadata": {
    "scrolled": true
   },
   "outputs": [
    {
     "name": "stdout",
     "output_type": "stream",
     "text": [
      "Radius: 0\n",
      "+-------+------------------------+---------------------+\n",
      "|   id  |        distance        |         name        |\n",
      "+-------+------------------------+---------------------+\n",
      "| 35817 | 1.1102230246251565e-16 |     Barack Obama    |\n",
      "| 54743 |    0.97334561058472    | Radovan %C5%BDerjav |\n",
      "+-------+------------------------+---------------------+\n",
      "[2 rows x 3 columns]\n",
      "\n",
      "Radius: 1\n",
      "+-------+------------------------+------------------------------+\n",
      "|   id  |        distance        |             name             |\n",
      "+-------+------------------------+------------------------------+\n",
      "| 35817 | 1.1102230246251565e-16 |         Barack Obama         |\n",
      "| 24478 |   0.703138676733575    |          Joe Biden           |\n",
      "| 34159 |   0.9430865736846581   |       Jennifer Hudson        |\n",
      "| 23926 |   0.9608039657958866   | Se%C3%A1n Power (politician) |\n",
      "| 36266 |   0.9615994281067699   |         Ralph Weber          |\n",
      "| 33200 |    0.97101213334657    |         Emrah Yucel          |\n",
      "| 28804 |   0.9729856623983864   |     Matthew McConaughey      |\n",
      "| 54743 |    0.97334561058472    |     Radovan %C5%BDerjav      |\n",
      "|  7331 |   0.9735542076945761   |       Joselo D%C3%ADaz       |\n",
      "| 43775 |   0.9790856334914729   |       Carly Rae Jepsen       |\n",
      "+-------+------------------------+------------------------------+\n",
      "[10 rows x 3 columns]\n",
      "\n",
      "Radius: 2\n",
      "+-------+------------------------+--------------------------------+\n",
      "|   id  |        distance        |              name              |\n",
      "+-------+------------------------+--------------------------------+\n",
      "| 35817 | 1.1102230246251565e-16 |          Barack Obama          |\n",
      "| 24478 |   0.703138676733575    |           Joe Biden            |\n",
      "|  9051 |   0.9008406076426497   |         Newt Gingrich          |\n",
      "| 46253 |   0.9158128432084635   |        Francisco Rezek         |\n",
      "|  110  |   0.9346379007684388   |      Abdel Fattah el-Sisi      |\n",
      "| 40837 |   0.9370458058764901   |    Dovey Johnson Roundtree     |\n",
      "| 34159 |   0.9430865736846581   |        Jennifer Hudson         |\n",
      "| 28320 |   0.9460512776474829   |          Robert Reich          |\n",
      "| 33070 |   0.9466276757770745   |          Claude Allen          |\n",
      "|  3818 |   0.9484009651426074   | Tom Sawyer (Kansas politician) |\n",
      "+-------+------------------------+--------------------------------+\n",
      "[10 rows x 3 columns]\n",
      "\n",
      "Radius: 3\n",
      "+-------+------------------------+---------------------+\n",
      "|   id  |        distance        |         name        |\n",
      "+-------+------------------------+---------------------+\n",
      "| 35817 | 1.1102230246251565e-16 |     Barack Obama    |\n",
      "| 24478 |   0.703138676733575    |      Joe Biden      |\n",
      "| 38376 |   0.7429819023278823   |    Samantha Power   |\n",
      "|  4032 |   0.8145547486714284   | Kenneth D. Thompson |\n",
      "| 43155 |   0.8408390074837325   |     Goodwin Liu     |\n",
      "| 20159 |   0.844036884280093    |    Charlie Crist    |\n",
      "| 11517 |   0.8483420107162964   |     Louis Susman    |\n",
      "| 46332 |   0.8897020225435585   |     Tom Tancredo    |\n",
      "| 22063 |   0.8946710479694914   |   Kathryn Troutman  |\n",
      "| 10437 |   0.9001571479475322   |    David J. Hayes   |\n",
      "+-------+------------------------+---------------------+\n",
      "[10 rows x 3 columns]\n",
      "\n",
      "Radius: 4\n",
      "+-------+------------------------+---------------------+\n",
      "|   id  |        distance        |         name        |\n",
      "+-------+------------------------+---------------------+\n",
      "| 35817 | 1.1102230246251565e-16 |     Barack Obama    |\n",
      "| 24478 |   0.703138676733575    |      Joe Biden      |\n",
      "| 38376 |   0.7429819023278823   |    Samantha Power   |\n",
      "| 23737 |   0.8101646334648858   |  John D. McCormick  |\n",
      "|  4032 |   0.8145547486714284   | Kenneth D. Thompson |\n",
      "| 14754 |   0.826854025896727    |     Mitt Romney     |\n",
      "| 43155 |   0.8408390074837325   |     Goodwin Liu     |\n",
      "| 20159 |   0.844036884280093    |    Charlie Crist    |\n",
      "| 11517 |   0.8483420107162964   |     Louis Susman    |\n",
      "| 40184 |   0.8601570123329991   |     Chuck Hagel     |\n",
      "+-------+------------------------+---------------------+\n",
      "[10 rows x 3 columns]\n",
      "\n",
      "Radius: 5\n",
      "+-------+------------------------+-------------------------+\n",
      "|   id  |        distance        |           name          |\n",
      "+-------+------------------------+-------------------------+\n",
      "| 35817 | 1.1102230246251565e-16 |       Barack Obama      |\n",
      "| 24478 |   0.703138676733575    |        Joe Biden        |\n",
      "| 38376 |   0.7429819023278823   |      Samantha Power     |\n",
      "| 38714 |   0.7705612276009974   | Eric Stern (politician) |\n",
      "| 44681 |   0.790926415366316    |  Jesse Lee (politician) |\n",
      "|  2412 |   0.799466360041952    |     Joe the Plumber     |\n",
      "| 23737 |   0.8101646334648858   |    John D. McCormick    |\n",
      "|  4032 |   0.8145547486714284   |   Kenneth D. Thompson   |\n",
      "| 14754 |   0.826854025896727    |       Mitt Romney       |\n",
      "| 24848 |   0.8394067356676752   |     John C. Eastman     |\n",
      "+-------+------------------------+-------------------------+\n",
      "[10 rows x 3 columns]\n",
      "\n",
      "Radius: 6\n",
      "+-------+------------------------+-------------------------+\n",
      "|   id  |        distance        |           name          |\n",
      "+-------+------------------------+-------------------------+\n",
      "| 35817 | 1.1102230246251565e-16 |       Barack Obama      |\n",
      "| 24478 |   0.703138676733575    |        Joe Biden        |\n",
      "| 38376 |   0.7429819023278823   |      Samantha Power     |\n",
      "| 57108 |   0.7583583978869675   |  Hillary Rodham Clinton |\n",
      "| 38714 |   0.7705612276009974   | Eric Stern (politician) |\n",
      "|  6796 |   0.7880390729434776   |       Eric Holder       |\n",
      "| 44681 |   0.790926415366316    |  Jesse Lee (politician) |\n",
      "| 18827 |   0.7983226028934733   |       Henry Waxman      |\n",
      "|  2412 |   0.799466360041952    |     Joe the Plumber     |\n",
      "| 23737 |   0.8101646334648858   |    John D. McCormick    |\n",
      "+-------+------------------------+-------------------------+\n",
      "[10 rows x 3 columns]\n",
      "\n",
      "Radius: 7\n",
      "+-------+------------------------+-------------------------+\n",
      "|   id  |        distance        |           name          |\n",
      "+-------+------------------------+-------------------------+\n",
      "| 35817 | 1.1102230246251565e-16 |       Barack Obama      |\n",
      "| 24478 |   0.703138676733575    |        Joe Biden        |\n",
      "| 38376 |   0.7429819023278823   |      Samantha Power     |\n",
      "| 57108 |   0.7583583978869675   |  Hillary Rodham Clinton |\n",
      "| 38714 |   0.7705612276009974   | Eric Stern (politician) |\n",
      "| 46140 |    0.78467750475065    |       Robert Gibbs      |\n",
      "|  6796 |   0.7880390729434776   |       Eric Holder       |\n",
      "| 44681 |   0.790926415366316    |  Jesse Lee (politician) |\n",
      "| 18827 |   0.7983226028934733   |       Henry Waxman      |\n",
      "|  2412 |   0.799466360041952    |     Joe the Plumber     |\n",
      "+-------+------------------------+-------------------------+\n",
      "[10 rows x 3 columns]\n",
      "\n",
      "Radius: 8\n",
      "+-------+------------------------+-------------------------+\n",
      "|   id  |        distance        |           name          |\n",
      "+-------+------------------------+-------------------------+\n",
      "| 35817 | 1.1102230246251565e-16 |       Barack Obama      |\n",
      "| 24478 |   0.703138676733575    |        Joe Biden        |\n",
      "| 38376 |   0.7429819023278823   |      Samantha Power     |\n",
      "| 57108 |   0.7583583978869675   |  Hillary Rodham Clinton |\n",
      "| 38714 |   0.7705612276009974   | Eric Stern (politician) |\n",
      "| 46140 |    0.78467750475065    |       Robert Gibbs      |\n",
      "|  6796 |   0.7880390729434776   |       Eric Holder       |\n",
      "| 44681 |   0.790926415366316    |  Jesse Lee (politician) |\n",
      "| 18827 |   0.7983226028934733   |       Henry Waxman      |\n",
      "|  2412 |   0.799466360041952    |     Joe the Plumber     |\n",
      "+-------+------------------------+-------------------------+\n",
      "[10 rows x 3 columns]\n",
      "\n",
      "Radius: 9\n",
      "+-------+------------------------+-------------------------+\n",
      "|   id  |        distance        |           name          |\n",
      "+-------+------------------------+-------------------------+\n",
      "| 35817 | 1.1102230246251565e-16 |       Barack Obama      |\n",
      "| 24478 |   0.703138676733575    |        Joe Biden        |\n",
      "| 38376 |   0.7429819023278823   |      Samantha Power     |\n",
      "| 57108 |   0.7583583978869675   |  Hillary Rodham Clinton |\n",
      "| 38714 |   0.7705612276009974   | Eric Stern (politician) |\n",
      "| 46140 |    0.78467750475065    |       Robert Gibbs      |\n",
      "|  6796 |   0.7880390729434776   |       Eric Holder       |\n",
      "| 44681 |   0.790926415366316    |  Jesse Lee (politician) |\n",
      "| 18827 |   0.7983226028934733   |       Henry Waxman      |\n",
      "|  2412 |   0.799466360041952    |     Joe the Plumber     |\n",
      "+-------+------------------------+-------------------------+\n",
      "[10 rows x 3 columns]\n",
      "\n"
     ]
    },
    {
     "name": "stdout",
     "output_type": "stream",
     "text": [
      "Radius: 10\n",
      "+-------+------------------------+-------------------------+\n",
      "|   id  |        distance        |           name          |\n",
      "+-------+------------------------+-------------------------+\n",
      "| 35817 | 1.1102230246251565e-16 |       Barack Obama      |\n",
      "| 24478 |   0.703138676733575    |        Joe Biden        |\n",
      "| 38376 |   0.7429819023278823   |      Samantha Power     |\n",
      "| 57108 |   0.7583583978869675   |  Hillary Rodham Clinton |\n",
      "| 38714 |   0.7705612276009974   | Eric Stern (politician) |\n",
      "| 46140 |    0.78467750475065    |       Robert Gibbs      |\n",
      "|  6796 |   0.7880390729434776   |       Eric Holder       |\n",
      "| 44681 |   0.790926415366316    |  Jesse Lee (politician) |\n",
      "| 18827 |   0.7983226028934733   |       Henry Waxman      |\n",
      "|  2412 |   0.799466360041952    |     Joe the Plumber     |\n",
      "+-------+------------------------+-------------------------+\n",
      "[10 rows x 3 columns]\n",
      "\n",
      "Radius: 11\n",
      "+-------+------------------------+-------------------------+\n",
      "|   id  |        distance        |           name          |\n",
      "+-------+------------------------+-------------------------+\n",
      "| 35817 | 1.1102230246251565e-16 |       Barack Obama      |\n",
      "| 24478 |   0.703138676733575    |        Joe Biden        |\n",
      "| 38376 |   0.7429819023278823   |      Samantha Power     |\n",
      "| 57108 |   0.7583583978869675   |  Hillary Rodham Clinton |\n",
      "| 38714 |   0.7705612276009974   | Eric Stern (politician) |\n",
      "| 46140 |    0.78467750475065    |       Robert Gibbs      |\n",
      "|  6796 |   0.7880390729434776   |       Eric Holder       |\n",
      "| 44681 |   0.790926415366316    |  Jesse Lee (politician) |\n",
      "| 18827 |   0.7983226028934733   |       Henry Waxman      |\n",
      "|  2412 |   0.799466360041952    |     Joe the Plumber     |\n",
      "+-------+------------------------+-------------------------+\n",
      "[10 rows x 3 columns]\n",
      "\n",
      "Radius: 12\n",
      "+-------+------------------------+-------------------------+\n",
      "|   id  |        distance        |           name          |\n",
      "+-------+------------------------+-------------------------+\n",
      "| 35817 | 1.1102230246251565e-16 |       Barack Obama      |\n",
      "| 24478 |   0.703138676733575    |        Joe Biden        |\n",
      "| 38376 |   0.7429819023278823   |      Samantha Power     |\n",
      "| 57108 |   0.7583583978869675   |  Hillary Rodham Clinton |\n",
      "| 38714 |   0.7705612276009974   | Eric Stern (politician) |\n",
      "| 46140 |    0.78467750475065    |       Robert Gibbs      |\n",
      "|  6796 |   0.7880390729434776   |       Eric Holder       |\n",
      "| 44681 |   0.790926415366316    |  Jesse Lee (politician) |\n",
      "| 18827 |   0.7983226028934733   |       Henry Waxman      |\n",
      "|  2412 |   0.799466360041952    |     Joe the Plumber     |\n",
      "+-------+------------------------+-------------------------+\n",
      "[10 rows x 3 columns]\n",
      "\n",
      "Radius: 13\n",
      "+-------+------------------------+-------------------------+\n",
      "|   id  |        distance        |           name          |\n",
      "+-------+------------------------+-------------------------+\n",
      "| 35817 | 1.1102230246251565e-16 |       Barack Obama      |\n",
      "| 24478 |   0.703138676733575    |        Joe Biden        |\n",
      "| 38376 |   0.7429819023278823   |      Samantha Power     |\n",
      "| 57108 |   0.7583583978869675   |  Hillary Rodham Clinton |\n",
      "| 38714 |   0.7705612276009974   | Eric Stern (politician) |\n",
      "| 46140 |    0.78467750475065    |       Robert Gibbs      |\n",
      "|  6796 |   0.7880390729434776   |       Eric Holder       |\n",
      "| 44681 |   0.790926415366316    |  Jesse Lee (politician) |\n",
      "| 18827 |   0.7983226028934733   |       Henry Waxman      |\n",
      "|  2412 |   0.799466360041952    |     Joe the Plumber     |\n",
      "+-------+------------------------+-------------------------+\n",
      "[10 rows x 3 columns]\n",
      "\n",
      "Radius: 14\n",
      "+-------+------------------------+-------------------------+\n",
      "|   id  |        distance        |           name          |\n",
      "+-------+------------------------+-------------------------+\n",
      "| 35817 | 1.1102230246251565e-16 |       Barack Obama      |\n",
      "| 24478 |   0.703138676733575    |        Joe Biden        |\n",
      "| 38376 |   0.7429819023278823   |      Samantha Power     |\n",
      "| 57108 |   0.7583583978869675   |  Hillary Rodham Clinton |\n",
      "| 38714 |   0.7705612276009974   | Eric Stern (politician) |\n",
      "| 46140 |    0.78467750475065    |       Robert Gibbs      |\n",
      "|  6796 |   0.7880390729434776   |       Eric Holder       |\n",
      "| 44681 |   0.790926415366316    |  Jesse Lee (politician) |\n",
      "| 18827 |   0.7983226028934733   |       Henry Waxman      |\n",
      "|  2412 |   0.799466360041952    |     Joe the Plumber     |\n",
      "+-------+------------------------+-------------------------+\n",
      "[10 rows x 3 columns]\n",
      "\n",
      "Radius: 15\n",
      "+-------+------------------------+-------------------------+\n",
      "|   id  |        distance        |           name          |\n",
      "+-------+------------------------+-------------------------+\n",
      "| 35817 | 1.1102230246251565e-16 |       Barack Obama      |\n",
      "| 24478 |   0.703138676733575    |        Joe Biden        |\n",
      "| 38376 |   0.7429819023278823   |      Samantha Power     |\n",
      "| 57108 |   0.7583583978869675   |  Hillary Rodham Clinton |\n",
      "| 38714 |   0.7705612276009974   | Eric Stern (politician) |\n",
      "| 46140 |    0.78467750475065    |       Robert Gibbs      |\n",
      "|  6796 |   0.7880390729434776   |       Eric Holder       |\n",
      "| 44681 |   0.790926415366316    |  Jesse Lee (politician) |\n",
      "| 18827 |   0.7983226028934733   |       Henry Waxman      |\n",
      "|  2412 |   0.799466360041952    |     Joe the Plumber     |\n",
      "+-------+------------------------+-------------------------+\n",
      "[10 rows x 3 columns]\n",
      "\n",
      "Radius: 16\n",
      "+-------+------------------------+-------------------------+\n",
      "|   id  |        distance        |           name          |\n",
      "+-------+------------------------+-------------------------+\n",
      "| 35817 | 1.1102230246251565e-16 |       Barack Obama      |\n",
      "| 24478 |   0.703138676733575    |        Joe Biden        |\n",
      "| 38376 |   0.7429819023278823   |      Samantha Power     |\n",
      "| 57108 |   0.7583583978869675   |  Hillary Rodham Clinton |\n",
      "| 38714 |   0.7705612276009974   | Eric Stern (politician) |\n",
      "| 46140 |    0.78467750475065    |       Robert Gibbs      |\n",
      "|  6796 |   0.7880390729434776   |       Eric Holder       |\n",
      "| 44681 |   0.790926415366316    |  Jesse Lee (politician) |\n",
      "| 18827 |   0.7983226028934733   |       Henry Waxman      |\n",
      "|  2412 |   0.799466360041952    |     Joe the Plumber     |\n",
      "+-------+------------------------+-------------------------+\n",
      "[10 rows x 3 columns]\n",
      "\n",
      "CPU times: user 7.57 s, sys: 1.33 s, total: 8.9 s\n",
      "Wall time: 7.28 s\n"
     ]
    }
   ],
   "source": [
    "%%time #show wall time of the entire cell. ref - %time gives time for the first line only\n",
    "num_candidates_history = []\n",
    "query_time_history = []\n",
    "max_distance_from_query_history = []\n",
    "min_distance_from_query_history = []\n",
    "average_distance_from_query_history = []\n",
    "\n",
    "for max_search_radius in range(17):\n",
    "    start=time.time()\n",
    "    result, num_candidates = query(corpus[35817,:], model, k=10,\n",
    "                                   max_search_radius=max_search_radius)\n",
    "    end=time.time()\n",
    "    query_time = end-start\n",
    "    \n",
    "    print('Radius:', max_search_radius)\n",
    "    print(result.join(wiki[['id', 'name']], on='id').sort('distance'))\n",
    "    \n",
    "    average_distance_from_query = result['distance'][1:].mean()\n",
    "    max_distance_from_query = result['distance'][1:].max()\n",
    "    min_distance_from_query = result['distance'][1:].min()\n",
    "    \n",
    "    num_candidates_history.append(num_candidates)\n",
    "    query_time_history.append(query_time)\n",
    "    average_distance_from_query_history.append(average_distance_from_query)\n",
    "    max_distance_from_query_history.append(max_distance_from_query)\n",
    "    min_distance_from_query_history.append(min_distance_from_query)\n"
   ]
  },
  {
   "cell_type": "markdown",
   "metadata": {},
   "source": [
    "Notice that the top 10 query results become more relevant as the search radius grows. Let's plot the three variables:"
   ]
  },
  {
   "cell_type": "code",
   "execution_count": 323,
   "metadata": {},
   "outputs": [
    {
     "data": {
      "image/png": "[encoded data removed]",
      "text/plain": [
       "<Figure size 504x324 with 1 Axes>"
      ]
     },
     "metadata": {
      "needs_background": "light"
     },
     "output_type": "display_data"
    },
    {
     "data": {
      "image/png": "[encoded data removed]",
      "text/plain": [
       "<Figure size 504x324 with 1 Axes>"
      ]
     },
     "metadata": {
      "needs_background": "light"
     },
     "output_type": "display_data"
    },
    {
     "data": {
      "image/png": "[encoded data removed]",
      "text/plain": [
       "<Figure size 504x324 with 1 Axes>"
      ]
     },
     "metadata": {
      "needs_background": "light"
     },
     "output_type": "display_data"
    }
   ],
   "source": [
    "plt.figure(figsize=(7,4.5))\n",
    "plt.plot(num_candidates_history, linewidth=4)\n",
    "plt.xlabel('Search radius')\n",
    "plt.ylabel('# of documents searched')\n",
    "plt.rcParams.update({'font.size':16})\n",
    "plt.tight_layout()\n",
    "\n",
    "plt.figure(figsize=(7,4.5))\n",
    "plt.plot(query_time_history, linewidth=4)\n",
    "plt.xlabel('Search radius')\n",
    "plt.ylabel('Query time (seconds)')\n",
    "plt.rcParams.update({'font.size':16})\n",
    "plt.tight_layout()\n",
    "\n",
    "plt.figure(figsize=(7,4.5))\n",
    "plt.plot(average_distance_from_query_history, linewidth=4, label='Average of 10 neighbors')\n",
    "plt.plot(max_distance_from_query_history, linewidth=4, label='Farthest of 10 neighbors')\n",
    "plt.plot(min_distance_from_query_history, linewidth=4, label='Closest of 10 neighbors')\n",
    "plt.xlabel('Search radius')\n",
    "plt.ylabel('Cosine distance of neighbors')\n",
    "plt.legend(loc='best', prop={'size':15})\n",
    "plt.rcParams.update({'font.size':16})\n",
    "plt.tight_layout()"
   ]
  },
  {
   "cell_type": "markdown",
   "metadata": {},
   "source": [
    "Some observations:\n",
    "* As we increase the search radius, we find more neighbors that are a smaller distance away.\n",
    "* With increased search radius comes a greater number documents that have to be searched. Query time is higher as a consequence.\n",
    "* With sufficiently high search radius, the results of LSH begin to resemble the results of brute-force search."
   ]
  },
  {
   "cell_type": "markdown",
   "metadata": {},
   "source": [
    "**Quiz Question**. What was the smallest search radius that yielded the correct nearest neighbor, namely Joe Biden?\n",
    "\n",
    "**Quiz Question**. Suppose our goal was to produce 10 approximate nearest neighbors whose average distance from the query document is within 0.01 of the average for the true 10 nearest neighbors. For Barack Obama, the true 10 nearest neighbors are on average about 0.77. What was the smallest search radius for Barack Obama that produced an average distance of 0.78 or better?"
   ]
  },
  {
   "cell_type": "code",
   "execution_count": 324,
   "metadata": {},
   "outputs": [
    {
     "data": {
      "text/plain": [
       "[0.97334561058472,\n",
       " 0.703138676733575,\n",
       " 0.703138676733575,\n",
       " 0.703138676733575,\n",
       " 0.703138676733575,\n",
       " 0.703138676733575,\n",
       " 0.703138676733575,\n",
       " 0.703138676733575,\n",
       " 0.703138676733575,\n",
       " 0.703138676733575,\n",
       " 0.703138676733575,\n",
       " 0.703138676733575,\n",
       " 0.703138676733575,\n",
       " 0.703138676733575,\n",
       " 0.703138676733575,\n",
       " 0.703138676733575,\n",
       " 0.703138676733575]"
      ]
     },
     "execution_count": 324,
     "metadata": {},
     "output_type": "execute_result"
    }
   ],
   "source": [
    "min_distance_from_query_history"
   ]
  },
  {
   "cell_type": "code",
   "execution_count": 325,
   "metadata": {},
   "outputs": [
    {
     "data": {
      "text/plain": [
       "[0.97334561058472,\n",
       " 0.9376235435374016,\n",
       " 0.9084047029423821,\n",
       " 0.8309359387415101,\n",
       " 0.8101187668786244,\n",
       " 0.7886727473079377,\n",
       " 0.7735510321399475,\n",
       " 0.7707191289494769,\n",
       " 0.7707191289494769,\n",
       " 0.7707191289494769,\n",
       " 0.7707191289494769,\n",
       " 0.7707191289494769,\n",
       " 0.7707191289494769,\n",
       " 0.7707191289494769,\n",
       " 0.7707191289494769,\n",
       " 0.7707191289494769,\n",
       " 0.7707191289494769]"
      ]
     },
     "execution_count": 325,
     "metadata": {},
     "output_type": "execute_result"
    }
   ],
   "source": [
    "average_distance_from_query_history"
   ]
  },
  {
   "cell_type": "code",
   "execution_count": 333,
   "metadata": {},
   "outputs": [
    {
     "data": {
      "text/plain": [
       "[True,\n",
       " True,\n",
       " True,\n",
       " True,\n",
       " True,\n",
       " True,\n",
       " False,\n",
       " False,\n",
       " False,\n",
       " False,\n",
       " False,\n",
       " False,\n",
       " False,\n",
       " False,\n",
       " False,\n",
       " False,\n",
       " False]"
      ]
     },
     "execution_count": 333,
     "metadata": {},
     "output_type": "execute_result"
    }
   ],
   "source": [
    "list(np.array(average_distance_from_query_history)>0.78)"
   ]
  },
  {
   "cell_type": "code",
   "execution_count": 334,
   "metadata": {},
   "outputs": [
    {
     "data": {
      "text/plain": [
       "6"
      ]
     },
     "execution_count": 334,
     "metadata": {},
     "output_type": "execute_result"
    }
   ],
   "source": [
    "np.argmin(list(np.array(average_distance_from_query_history)>0.78))"
   ]
  },
  {
   "cell_type": "markdown",
   "metadata": {},
   "source": [
    "## Quality metrics for neighbors"
   ]
  },
  {
   "cell_type": "markdown",
   "metadata": {},
   "source": [
    "The above analysis is limited by the fact that it was run with a single query, namely Barack Obama. We should repeat the analysis for the entirety of data. Iterating over all documents would take a long time, so let us randomly choose 10 documents for our analysis.\n",
    "\n",
    "For each document, we first compute the true 25 nearest neighbors, and then run LSH multiple times. We look at two metrics:\n",
    "\n",
    "* Precision@10: How many of the 10 neighbors given by LSH are among the true 25 nearest neighbors?\n",
    "* Average cosine distance of the neighbors from the query\n",
    "\n",
    "Then we run LSH multiple times with different search radii."
   ]
  },
  {
   "cell_type": "code",
   "execution_count": 335,
   "metadata": {},
   "outputs": [],
   "source": [
    "def brute_force_query(vec, data, k):\n",
    "    num_data_points = data.shape[0]\n",
    "    \n",
    "    # Compute distances for ALL data points in training set\n",
    "    nearest_neighbors = turicreate.SFrame({'id':range(num_data_points)})\n",
    "    nearest_neighbors['distance'] = pairwise_distances(data, vec, metric='cosine').flatten()\n",
    "    \n",
    "    return nearest_neighbors.topk('distance', k, reverse=True)"
   ]
  },
  {
   "cell_type": "markdown",
   "metadata": {},
   "source": [
    "The following cell will run LSH with multiple search radii and compute the quality metrics for each run. Allow a few minutes to complete."
   ]
  },
  {
   "cell_type": "code",
   "execution_count": 336,
   "metadata": {
    "scrolled": true
   },
   "outputs": [
    {
     "name": "stdout",
     "output_type": "stream",
     "text": [
      "0 / 10\n",
      "1 / 10\n",
      "2 / 10\n",
      "3 / 10\n",
      "4 / 10\n",
      "5 / 10\n",
      "6 / 10\n",
      "7 / 10\n",
      "8 / 10\n",
      "9 / 10\n",
      "CPU times: user 59.4 s, sys: 11.7 s, total: 1min 11s\n",
      "Wall time: 1min 7s\n"
     ]
    }
   ],
   "source": [
    "%%time\n",
    "max_radius = 17\n",
    "precision = {i:[] for i in range(max_radius)}\n",
    "average_distance  = {i:[] for i in range(max_radius)}\n",
    "query_time  = {i:[] for i in range(max_radius)}\n",
    "\n",
    "num_queries = 10\n",
    "for i, ix in enumerate(np.random.choice(corpus.shape[0], num_queries, replace=False)):\n",
    "    print('%s / %s' % (i, num_queries))\n",
    "    ground_truth = set(brute_force_query(corpus[ix,:], corpus, k=25)['id'])\n",
    "    # Get the set of 25 true nearest neighbors\n",
    "    \n",
    "    for r in range(1,max_radius):\n",
    "        start = time.time()\n",
    "        result, num_candidates = query(corpus[ix,:], model, k=10, max_search_radius=r)\n",
    "        end = time.time()\n",
    "\n",
    "        query_time[r].append(end-start)\n",
    "        # precision = (# of neighbors both in result and ground_truth)/10.0\n",
    "        precision[r].append(len(set(result['id']) & ground_truth)/10.0)\n",
    "        average_distance[r].append(result['distance'][1:].mean())"
   ]
  },
  {
   "cell_type": "code",
   "execution_count": 338,
   "metadata": {},
   "outputs": [
    {
     "data": {
      "text/plain": [
       "{0: [],\n",
       " 1: [0.981645845166654,\n",
       "  0.9700063845059017,\n",
       "  0.9802697593528564,\n",
       "  0.9873996586758883,\n",
       "  0.9882930450129743,\n",
       "  0.9792443740034845,\n",
       "  0.9907665133961809,\n",
       "  0.9880533666156174,\n",
       "  0.9819744184561274,\n",
       "  0.9659259280452089],\n",
       " 2: [0.9318366274941887,\n",
       "  0.9370917620287056,\n",
       "  0.8958294395962152,\n",
       "  0.9249886516044987,\n",
       "  0.9644023090062032,\n",
       "  0.9468427558185482,\n",
       "  0.9370413720514335,\n",
       "  0.9737014928736079,\n",
       "  0.9684154324811896,\n",
       "  0.9409555474554401],\n",
       " 3: [0.8485717696950897,\n",
       "  0.9017237539720433,\n",
       "  0.8557595810819238,\n",
       "  0.8719858955404217,\n",
       "  0.8922155327723809,\n",
       "  0.9026175738410462,\n",
       "  0.8969106125412035,\n",
       "  0.9611184658676554,\n",
       "  0.955870160798609,\n",
       "  0.8451674908685798],\n",
       " 4: [0.7993928535098033,\n",
       "  0.8910115507187422,\n",
       "  0.8554779136711321,\n",
       "  0.8422167291968685,\n",
       "  0.8371334903937159,\n",
       "  0.8805747826337122,\n",
       "  0.828925472689962,\n",
       "  0.9569388456634639,\n",
       "  0.9338471722624995,\n",
       "  0.7788166752777107],\n",
       " 5: [0.7576715788482218,\n",
       "  0.8467117965043386,\n",
       "  0.8239338509402917,\n",
       "  0.8097231050592254,\n",
       "  0.7657162415749068,\n",
       "  0.8710567261759571,\n",
       "  0.784544128938536,\n",
       "  0.940522880676125,\n",
       "  0.929912350205369,\n",
       "  0.7537768702774985],\n",
       " 6: [0.751961763432237,\n",
       "  0.8300013825517606,\n",
       "  0.8148709278870933,\n",
       "  0.7834602519047631,\n",
       "  0.7308464534368062,\n",
       "  0.8649769832232811,\n",
       "  0.781067742116721,\n",
       "  0.9244173081673542,\n",
       "  0.9266463435295178,\n",
       "  0.7515299163206262],\n",
       " 7: [0.7403160750986578,\n",
       "  0.8264062936065348,\n",
       "  0.8141756553175434,\n",
       "  0.7769426794206635,\n",
       "  0.7197230237476357,\n",
       "  0.832925602479037,\n",
       "  0.781067742116721,\n",
       "  0.8861277864816316,\n",
       "  0.9258212962786277,\n",
       "  0.7515299163206262],\n",
       " 8: [0.724544364482024,\n",
       "  0.8161640965810549,\n",
       "  0.8128773191180617,\n",
       "  0.7642396843837298,\n",
       "  0.7197230237476357,\n",
       "  0.8294315835375212,\n",
       "  0.7763389317743619,\n",
       "  0.8554345582001386,\n",
       "  0.8833887374633742,\n",
       "  0.7488107119549721],\n",
       " 9: [0.724544364482024,\n",
       "  0.8161640965810549,\n",
       "  0.8045190781875451,\n",
       "  0.7567014277849362,\n",
       "  0.7118697974783637,\n",
       "  0.8294315835375212,\n",
       "  0.7763389317743619,\n",
       "  0.8554345582001386,\n",
       "  0.8734361441188578,\n",
       "  0.7479790525754825],\n",
       " 10: [0.7005938303484675,\n",
       "  0.8161640965810549,\n",
       "  0.7947022859276831,\n",
       "  0.7536836973000876,\n",
       "  0.6984232789244809,\n",
       "  0.8272022389554237,\n",
       "  0.7763389317743619,\n",
       "  0.8554345582001386,\n",
       "  0.8695417110322892,\n",
       "  0.7479790525754825],\n",
       " 11: [0.7005938303484675,\n",
       "  0.8161640965810549,\n",
       "  0.7947022859276831,\n",
       "  0.7536836973000876,\n",
       "  0.6984232789244809,\n",
       "  0.8272022389554237,\n",
       "  0.7763389317743619,\n",
       "  0.8259608231298522,\n",
       "  0.8695417110322892,\n",
       "  0.7479790525754825],\n",
       " 12: [0.7005938303484675,\n",
       "  0.8161640965810549,\n",
       "  0.7947022859276831,\n",
       "  0.7536836973000876,\n",
       "  0.6984232789244809,\n",
       "  0.8272022389554237,\n",
       "  0.7763389317743619,\n",
       "  0.8259608231298522,\n",
       "  0.8695417110322892,\n",
       "  0.7479790525754825],\n",
       " 13: [0.7005938303484675,\n",
       "  0.8161640965810549,\n",
       "  0.7947022859276831,\n",
       "  0.7536836973000876,\n",
       "  0.6984232789244809,\n",
       "  0.8272022389554237,\n",
       "  0.7763389317743619,\n",
       "  0.8259608231298522,\n",
       "  0.8695417110322892,\n",
       "  0.7479790525754825],\n",
       " 14: [0.7005938303484675,\n",
       "  0.8161640965810549,\n",
       "  0.7947022859276831,\n",
       "  0.7536836973000876,\n",
       "  0.6984232789244809,\n",
       "  0.8272022389554237,\n",
       "  0.7763389317743619,\n",
       "  0.8259608231298522,\n",
       "  0.8695417110322892,\n",
       "  0.7479790525754825],\n",
       " 15: [0.7005938303484675,\n",
       "  0.8161640965810549,\n",
       "  0.7947022859276831,\n",
       "  0.7536836973000876,\n",
       "  0.6984232789244809,\n",
       "  0.8272022389554237,\n",
       "  0.7763389317743619,\n",
       "  0.8259608231298522,\n",
       "  0.8695417110322892,\n",
       "  0.7479790525754825],\n",
       " 16: [0.7005938303484675,\n",
       "  0.8161640965810549,\n",
       "  0.7947022859276831,\n",
       "  0.7536836973000876,\n",
       "  0.6984232789244809,\n",
       "  0.8272022389554237,\n",
       "  0.7763389317743619,\n",
       "  0.8259608231298522,\n",
       "  0.8695417110322892,\n",
       "  0.7479790525754825]}"
      ]
     },
     "execution_count": 338,
     "metadata": {},
     "output_type": "execute_result"
    }
   ],
   "source": [
    "average_distance"
   ]
  },
  {
   "cell_type": "code",
   "execution_count": 339,
   "metadata": {},
   "outputs": [
    {
     "data": {
      "image/png": "[encoded data removed]",
      "text/plain": [
       "<Figure size 504x324 with 1 Axes>"
      ]
     },
     "metadata": {
      "needs_background": "light"
     },
     "output_type": "display_data"
    },
    {
     "data": {
      "image/png": "[encoded data removed]",
      "text/plain": [
       "<Figure size 504x324 with 1 Axes>"
      ]
     },
     "metadata": {
      "needs_background": "light"
     },
     "output_type": "display_data"
    },
    {
     "data": {
      "image/png": "[encoded data removed]",
      "text/plain": [
       "<Figure size 504x324 with 1 Axes>"
      ]
     },
     "metadata": {
      "needs_background": "light"
     },
     "output_type": "display_data"
    }
   ],
   "source": [
    "## average of average_distances over 10 queries\n",
    "plt.figure(figsize=(7,4.5))\n",
    "plt.plot(range(1,17), [np.mean(average_distance[i]) for i in range(1,17)], linewidth=4, label='Average over 10 neighbors')\n",
    "plt.xlabel('Search radius')\n",
    "plt.ylabel('Cosine distance')\n",
    "plt.legend(loc='best', prop={'size':15})\n",
    "plt.rcParams.update({'font.size':16})\n",
    "plt.tight_layout()\n",
    "\n",
    "plt.figure(figsize=(7,4.5))\n",
    "plt.plot(range(1,17), [np.mean(precision[i]) for i in range(1,17)], linewidth=4, label='Precison@10')\n",
    "plt.xlabel('Search radius')\n",
    "plt.ylabel('Precision')\n",
    "plt.legend(loc='best', prop={'size':15})\n",
    "plt.rcParams.update({'font.size':16})\n",
    "plt.tight_layout()\n",
    "\n",
    "plt.figure(figsize=(7,4.5))\n",
    "plt.plot(range(1,17), [np.mean(query_time[i]) for i in range(1,17)], linewidth=4, label='Query time')\n",
    "plt.xlabel('Search radius')\n",
    "plt.ylabel('Query time (seconds)')\n",
    "plt.legend(loc='best', prop={'size':15})\n",
    "plt.rcParams.update({'font.size':16})\n",
    "plt.tight_layout()"
   ]
  },
  {
   "cell_type": "markdown",
   "metadata": {},
   "source": [
    "The observations for Barack Obama generalize to the entire dataset."
   ]
  },
  {
   "cell_type": "markdown",
   "metadata": {},
   "source": [
    "## Effect of number of random vectors"
   ]
  },
  {
   "cell_type": "markdown",
   "metadata": {},
   "source": [
    "Let us now turn our focus to the remaining parameter: the number of random vectors. We run LSH with different number of random vectors, ranging from 5 to 20. We fix the search radius to 3.\n",
    "\n",
    "Allow a few minutes for the following cell to complete."
   ]
  },
  {
   "cell_type": "code",
   "execution_count": 343,
   "metadata": {},
   "outputs": [
    {
     "name": "stdout",
     "output_type": "stream",
     "text": [
      "num_vector = 5\n",
      "num_vector = 6\n",
      "num_vector = 7\n",
      "num_vector = 8\n",
      "num_vector = 9\n",
      "num_vector = 10\n",
      "num_vector = 11\n",
      "num_vector = 12\n",
      "num_vector = 13\n",
      "num_vector = 14\n",
      "num_vector = 15\n",
      "num_vector = 16\n",
      "num_vector = 17\n",
      "num_vector = 18\n",
      "num_vector = 19\n"
     ]
    }
   ],
   "source": [
    "modeling_time_history = {}\n",
    "for num_vector in range(5,20):\n",
    "    print('num_vector = %s' % (num_vector))\n",
    "    \n",
    "    start_2 = time.time()\n",
    "    model = train_lsh(corpus, num_vector, seed=143)\n",
    "    end_2 = time.time()\n",
    "    modeling_time_history[num_vector] = (end_2 - start_2)"
   ]
  },
  {
   "cell_type": "code",
   "execution_count": 348,
   "metadata": {},
   "outputs": [
    {
     "data": {
      "image/png": "[encoded data removed]",
      "text/plain": [
       "<Figure size 504x324 with 1 Axes>"
      ]
     },
     "metadata": {
      "needs_background": "light"
     },
     "output_type": "display_data"
    }
   ],
   "source": [
    "plt.figure(figsize=(7,4.5))\n",
    "plt.plot(range(5,20), [modeling_time_history[i] for i in range(5,20)], linewidth=4, label='Modeling time')\n",
    "plt.xlabel('# of random vectors')\n",
    "plt.ylabel('Modeling time')\n",
    "plt.legend(loc='best', prop={'size':15})\n",
    "plt.rcParams.update({'font.size':16})\n",
    "plt.tight_layout()"
   ]
  },
  {
   "cell_type": "code",
   "execution_count": 356,
   "metadata": {
    "scrolled": true
   },
   "outputs": [
    {
     "data": {
      "image/png": "[encoded data removed]",
      "text/plain": [
       "<Figure size 504x324 with 1 Axes>"
      ]
     },
     "metadata": {
      "needs_background": "light"
     },
     "output_type": "display_data"
    }
   ],
   "source": [
    "plt.figure(figsize=(7,4.5))\n",
    "plt.plot(range(5,20), [(modeling_time_history[i]+np.mean(query_time[i])) for i in range(5,20)], linewidth=4, label='Modeling+query time')\n",
    "plt.xlabel('# of random vectors')\n",
    "plt.ylabel('Modeling+query time')\n",
    "plt.legend(loc='best', prop={'size':15})\n",
    "plt.rcParams.update({'font.size':16})\n",
    "plt.tight_layout()"
   ]
  },
  {
   "cell_type": "code",
   "execution_count": 340,
   "metadata": {},
   "outputs": [
    {
     "name": "stdout",
     "output_type": "stream",
     "text": [
      "num_vector = 5\n",
      "num_vector = 6\n",
      "num_vector = 7\n",
      "num_vector = 8\n",
      "num_vector = 9\n",
      "num_vector = 10\n",
      "num_vector = 11\n",
      "num_vector = 12\n",
      "num_vector = 13\n",
      "num_vector = 14\n",
      "num_vector = 15\n",
      "num_vector = 16\n",
      "num_vector = 17\n",
      "num_vector = 18\n",
      "num_vector = 19\n"
     ]
    }
   ],
   "source": [
    "precision = {i:[] for i in range(5,20)}\n",
    "average_distance  = {i:[] for i in range(5,20)}\n",
    "query_time = {i:[] for i in range(5,20)}\n",
    "num_candidates_history = {i:[] for i in range(5,20)}\n",
    "ground_truth = {}\n",
    "\n",
    "num_queries = 10\n",
    "docs = np.random.choice(corpus.shape[0], num_queries, replace=False)\n",
    "\n",
    "for i, ix in enumerate(docs):\n",
    "    ground_truth[ix] = set(brute_force_query(corpus[ix,:], corpus, k=25)['id'])\n",
    "    # Get the set of 25 true nearest neighbors\n",
    "\n",
    "for num_vector in range(5,20):\n",
    "    print('num_vector = %s' % (num_vector))\n",
    "    \n",
    "    model = train_lsh(corpus, num_vector, seed=143)\n",
    "    \n",
    "    for i, ix in enumerate(docs):\n",
    "        start = time.time()\n",
    "        result, num_candidates = query(corpus[ix,:], model, k=10, max_search_radius=3)\n",
    "        end = time.time()\n",
    "        \n",
    "        query_time[num_vector].append(end-start)\n",
    "        precision[num_vector].append(len(set(result['id']) & ground_truth[ix])/10.0)\n",
    "        average_distance[num_vector].append(result['distance'][1:].mean())\n",
    "        num_candidates_history[num_vector].append(num_candidates)"
   ]
  },
  {
   "cell_type": "code",
   "execution_count": 341,
   "metadata": {},
   "outputs": [
    {
     "data": {
      "image/png": "[encoded data removed]",
      "text/plain": [
       "<Figure size 504x324 with 1 Axes>"
      ]
     },
     "metadata": {
      "needs_background": "light"
     },
     "output_type": "display_data"
    },
    {
     "data": {
      "image/png": "[encoded data removed]",
      "text/plain": [
       "<Figure size 504x324 with 1 Axes>"
      ]
     },
     "metadata": {
      "needs_background": "light"
     },
     "output_type": "display_data"
    },
    {
     "data": {
      "image/png": "[encoded data removed]",
      "text/plain": [
       "<Figure size 504x324 with 1 Axes>"
      ]
     },
     "metadata": {
      "needs_background": "light"
     },
     "output_type": "display_data"
    },
    {
     "data": {
      "image/png": "[encoded data removed]",
      "text/plain": [
       "<Figure size 504x324 with 1 Axes>"
      ]
     },
     "metadata": {
      "needs_background": "light"
     },
     "output_type": "display_data"
    }
   ],
   "source": [
    "plt.figure(figsize=(7,4.5))\n",
    "plt.plot(range(5,20), [np.mean(average_distance[i]) for i in range(5,20)], linewidth=4, label='Average over 10 neighbors')\n",
    "plt.xlabel('# of random vectors')\n",
    "plt.ylabel('Cosine distance')\n",
    "plt.legend(loc='best', prop={'size':15})\n",
    "plt.rcParams.update({'font.size':16})\n",
    "plt.tight_layout()\n",
    "\n",
    "plt.figure(figsize=(7,4.5))\n",
    "plt.plot(range(5,20), [np.mean(precision[i]) for i in range(5,20)], linewidth=4, label='Precison@10')\n",
    "plt.xlabel('# of random vectors')\n",
    "plt.ylabel('Precision')\n",
    "plt.legend(loc='best', prop={'size':15})\n",
    "plt.rcParams.update({'font.size':16})\n",
    "plt.tight_layout()\n",
    "\n",
    "plt.figure(figsize=(7,4.5))\n",
    "plt.plot(range(5,20), [np.mean(query_time[i]) for i in range(5,20)], linewidth=4, label='Query time (seconds)')\n",
    "plt.xlabel('# of random vectors')\n",
    "plt.ylabel('Query time (seconds)')\n",
    "plt.legend(loc='best', prop={'size':15})\n",
    "plt.rcParams.update({'font.size':16})\n",
    "plt.tight_layout()\n",
    "\n",
    "plt.figure(figsize=(7,4.5))\n",
    "plt.plot(range(5,20), [np.mean(num_candidates_history[i]) for i in range(5,20)], linewidth=4,\n",
    "         label='# of documents searched')\n",
    "plt.xlabel('# of random vectors')\n",
    "plt.ylabel('# of documents searched')\n",
    "plt.legend(loc='best', prop={'size':15})\n",
    "plt.rcParams.update({'font.size':16})\n",
    "plt.tight_layout()"
   ]
  },
  {
   "cell_type": "markdown",
   "metadata": {},
   "source": [
    "We see a similar trade-off between quality and performance: as the number of random vectors increases, the query time goes down as each bin contains fewer documents on average, but on average the neighbors are likewise placed farther from the query. On the other hand, when using a small enough number of random vectors, LSH becomes very similar brute-force search: Many documents appear in a single bin, so searching the query bin alone covers a lot of the corpus; then, including neighboring bins might result in searching all documents, just as in the brute-force approach."
   ]
  }
 ],
 "metadata": {
  "kernelspec": {
   "display_name": "Python 3",
   "language": "python",
   "name": "python3"
  },
  "language_info": {
   "codemirror_mode": {
    "name": "ipython",
    "version": 3
   },
   "file_extension": ".py",
   "mimetype": "text/x-python",
   "name": "python",
   "nbconvert_exporter": "python",
   "pygments_lexer": "ipython3",
   "version": "3.7.4"
  }
 },
 "nbformat": 4,
 "nbformat_minor": 1
}
